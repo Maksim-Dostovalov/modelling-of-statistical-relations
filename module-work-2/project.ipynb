{
 "cells": [
  {
   "cell_type": "code",
   "execution_count": 265,
   "metadata": {},
   "outputs": [],
   "source": [
    "import pandas as pd \n",
    "import numpy as np\n",
    "import statsmodels.api as sm\n",
    "import statsmodels.formula.api as smf\n",
    "from statsmodels.stats.diagnostic import linear_reset\n",
    "from scipy import stats\n",
    "from sklearn.preprocessing import PolynomialFeatures\n",
    "from sklearn.linear_model import LinearRegression\n",
    "\n",
    "import matplotlib.pyplot as plt\n",
    "import seaborn as sns\n",
    "\n",
    "import warnings\n",
    "warnings.filterwarnings(\"ignore\")"
   ]
  },
  {
   "cell_type": "markdown",
   "metadata": {},
   "source": [
    "# Задание 1\n",
    "___"
   ]
  },
  {
   "cell_type": "markdown",
   "metadata": {},
   "source": [
    "__`Y`__ - потребление цыплят\n",
    "\n",
    "__`X1`__ - среднедушевой доход\n",
    "\n",
    "__`X2`__ - стоимость одного фунта цыплят\n",
    "\n",
    "__`X3`__ - стоимость одного фунта свинины \n",
    "\n",
    "__`X4`__ - стоимость одного фунта говядины "
   ]
  },
  {
   "cell_type": "code",
   "execution_count": 266,
   "metadata": {},
   "outputs": [
    {
     "data": {
      "text/html": [
       "<div>\n",
       "<style scoped>\n",
       "    .dataframe tbody tr th:only-of-type {\n",
       "        vertical-align: middle;\n",
       "    }\n",
       "\n",
       "    .dataframe tbody tr th {\n",
       "        vertical-align: top;\n",
       "    }\n",
       "\n",
       "    .dataframe thead th {\n",
       "        text-align: right;\n",
       "    }\n",
       "</style>\n",
       "<table border=\"1\" class=\"dataframe\">\n",
       "  <thead>\n",
       "    <tr style=\"text-align: right;\">\n",
       "      <th></th>\n",
       "      <th>Y</th>\n",
       "      <th>X1</th>\n",
       "      <th>X2</th>\n",
       "      <th>X3</th>\n",
       "      <th>X4</th>\n",
       "    </tr>\n",
       "    <tr>\n",
       "      <th>t</th>\n",
       "      <th></th>\n",
       "      <th></th>\n",
       "      <th></th>\n",
       "      <th></th>\n",
       "      <th></th>\n",
       "    </tr>\n",
       "  </thead>\n",
       "  <tbody>\n",
       "    <tr>\n",
       "      <th>1</th>\n",
       "      <td>31.2</td>\n",
       "      <td>492.9</td>\n",
       "      <td>37.3</td>\n",
       "      <td>54.7</td>\n",
       "      <td>77.4</td>\n",
       "    </tr>\n",
       "    <tr>\n",
       "      <th>2</th>\n",
       "      <td>33.3</td>\n",
       "      <td>528.6</td>\n",
       "      <td>38.1</td>\n",
       "      <td>63.7</td>\n",
       "      <td>80.2</td>\n",
       "    </tr>\n",
       "    <tr>\n",
       "      <th>3</th>\n",
       "      <td>35.6</td>\n",
       "      <td>560.3</td>\n",
       "      <td>39.3</td>\n",
       "      <td>69.8</td>\n",
       "      <td>80.4</td>\n",
       "    </tr>\n",
       "    <tr>\n",
       "      <th>4</th>\n",
       "      <td>36.4</td>\n",
       "      <td>624.6</td>\n",
       "      <td>37.8</td>\n",
       "      <td>65.9</td>\n",
       "      <td>83.9</td>\n",
       "    </tr>\n",
       "    <tr>\n",
       "      <th>5</th>\n",
       "      <td>36.7</td>\n",
       "      <td>666.4</td>\n",
       "      <td>38.4</td>\n",
       "      <td>64.5</td>\n",
       "      <td>85.5</td>\n",
       "    </tr>\n",
       "  </tbody>\n",
       "</table>\n",
       "</div>"
      ],
      "text/plain": [
       "      Y     X1    X2    X3    X4\n",
       "t                               \n",
       "1  31.2  492.9  37.3  54.7  77.4\n",
       "2  33.3  528.6  38.1  63.7  80.2\n",
       "3  35.6  560.3  39.3  69.8  80.4\n",
       "4  36.4  624.6  37.8  65.9  83.9\n",
       "5  36.7  666.4  38.4  64.5  85.5"
      ]
     },
     "execution_count": 266,
     "metadata": {},
     "output_type": "execute_result"
    }
   ],
   "source": [
    "data = pd.read_excel('задание1.xlsx', index_col=0)\n",
    "\n",
    "data.head()"
   ]
  },
  {
   "cell_type": "markdown",
   "metadata": {},
   "source": [
    "Добавлю необходимые в будущем столбцы:"
   ]
  },
  {
   "cell_type": "code",
   "execution_count": 267,
   "metadata": {},
   "outputs": [
    {
     "data": {
      "text/html": [
       "<div>\n",
       "<style scoped>\n",
       "    .dataframe tbody tr th:only-of-type {\n",
       "        vertical-align: middle;\n",
       "    }\n",
       "\n",
       "    .dataframe tbody tr th {\n",
       "        vertical-align: top;\n",
       "    }\n",
       "\n",
       "    .dataframe thead th {\n",
       "        text-align: right;\n",
       "    }\n",
       "</style>\n",
       "<table border=\"1\" class=\"dataframe\">\n",
       "  <thead>\n",
       "    <tr style=\"text-align: right;\">\n",
       "      <th></th>\n",
       "      <th>ln_Y</th>\n",
       "      <th>ln_X1</th>\n",
       "      <th>ln_X2</th>\n",
       "      <th>ln_X3</th>\n",
       "      <th>ln_X4</th>\n",
       "    </tr>\n",
       "    <tr>\n",
       "      <th>t</th>\n",
       "      <th></th>\n",
       "      <th></th>\n",
       "      <th></th>\n",
       "      <th></th>\n",
       "      <th></th>\n",
       "    </tr>\n",
       "  </thead>\n",
       "  <tbody>\n",
       "    <tr>\n",
       "      <th>1</th>\n",
       "      <td>3.440418</td>\n",
       "      <td>6.200306</td>\n",
       "      <td>3.618993</td>\n",
       "      <td>4.001864</td>\n",
       "      <td>4.348987</td>\n",
       "    </tr>\n",
       "    <tr>\n",
       "      <th>2</th>\n",
       "      <td>3.505557</td>\n",
       "      <td>6.270232</td>\n",
       "      <td>3.640214</td>\n",
       "      <td>4.154185</td>\n",
       "      <td>4.384524</td>\n",
       "    </tr>\n",
       "    <tr>\n",
       "      <th>3</th>\n",
       "      <td>3.572346</td>\n",
       "      <td>6.328472</td>\n",
       "      <td>3.671225</td>\n",
       "      <td>4.245634</td>\n",
       "      <td>4.387014</td>\n",
       "    </tr>\n",
       "    <tr>\n",
       "      <th>4</th>\n",
       "      <td>3.594569</td>\n",
       "      <td>6.437111</td>\n",
       "      <td>3.632309</td>\n",
       "      <td>4.188138</td>\n",
       "      <td>4.429626</td>\n",
       "    </tr>\n",
       "    <tr>\n",
       "      <th>5</th>\n",
       "      <td>3.602777</td>\n",
       "      <td>6.501890</td>\n",
       "      <td>3.648057</td>\n",
       "      <td>4.166665</td>\n",
       "      <td>4.448516</td>\n",
       "    </tr>\n",
       "  </tbody>\n",
       "</table>\n",
       "</div>"
      ],
      "text/plain": [
       "       ln_Y     ln_X1     ln_X2     ln_X3     ln_X4\n",
       "t                                                  \n",
       "1  3.440418  6.200306  3.618993  4.001864  4.348987\n",
       "2  3.505557  6.270232  3.640214  4.154185  4.384524\n",
       "3  3.572346  6.328472  3.671225  4.245634  4.387014\n",
       "4  3.594569  6.437111  3.632309  4.188138  4.429626\n",
       "5  3.602777  6.501890  3.648057  4.166665  4.448516"
      ]
     },
     "execution_count": 267,
     "metadata": {},
     "output_type": "execute_result"
    }
   ],
   "source": [
    "ln_data = np.log(data)\n",
    "ln_data.columns = ['ln_' + col for col in ln_data.columns]\n",
    "\n",
    "ln_data.head()"
   ]
  },
  {
   "cell_type": "markdown",
   "metadata": {},
   "source": [
    "Полезно будет посмотреть корреляции регрессоров:"
   ]
  },
  {
   "cell_type": "code",
   "execution_count": 268,
   "metadata": {},
   "outputs": [
    {
     "data": {
      "text/html": [
       "<div>\n",
       "<style scoped>\n",
       "    .dataframe tbody tr th:only-of-type {\n",
       "        vertical-align: middle;\n",
       "    }\n",
       "\n",
       "    .dataframe tbody tr th {\n",
       "        vertical-align: top;\n",
       "    }\n",
       "\n",
       "    .dataframe thead th {\n",
       "        text-align: right;\n",
       "    }\n",
       "</style>\n",
       "<table border=\"1\" class=\"dataframe\">\n",
       "  <thead>\n",
       "    <tr style=\"text-align: right;\">\n",
       "      <th></th>\n",
       "      <th>ln_Y</th>\n",
       "      <th>ln_X1</th>\n",
       "      <th>ln_X2</th>\n",
       "      <th>ln_X3</th>\n",
       "      <th>ln_X4</th>\n",
       "    </tr>\n",
       "  </thead>\n",
       "  <tbody>\n",
       "    <tr>\n",
       "      <th>ln_Y</th>\n",
       "      <td>1.000000</td>\n",
       "      <td>0.968807</td>\n",
       "      <td>0.859015</td>\n",
       "      <td>0.894303</td>\n",
       "      <td>0.961366</td>\n",
       "    </tr>\n",
       "    <tr>\n",
       "      <th>ln_X1</th>\n",
       "      <td>0.968807</td>\n",
       "      <td>1.000000</td>\n",
       "      <td>0.941870</td>\n",
       "      <td>0.958683</td>\n",
       "      <td>0.987457</td>\n",
       "    </tr>\n",
       "    <tr>\n",
       "      <th>ln_X2</th>\n",
       "      <td>0.859015</td>\n",
       "      <td>0.941870</td>\n",
       "      <td>1.000000</td>\n",
       "      <td>0.983037</td>\n",
       "      <td>0.936052</td>\n",
       "    </tr>\n",
       "    <tr>\n",
       "      <th>ln_X3</th>\n",
       "      <td>0.894303</td>\n",
       "      <td>0.958683</td>\n",
       "      <td>0.983037</td>\n",
       "      <td>1.000000</td>\n",
       "      <td>0.947454</td>\n",
       "    </tr>\n",
       "    <tr>\n",
       "      <th>ln_X4</th>\n",
       "      <td>0.961366</td>\n",
       "      <td>0.987457</td>\n",
       "      <td>0.936052</td>\n",
       "      <td>0.947454</td>\n",
       "      <td>1.000000</td>\n",
       "    </tr>\n",
       "  </tbody>\n",
       "</table>\n",
       "</div>"
      ],
      "text/plain": [
       "           ln_Y     ln_X1     ln_X2     ln_X3     ln_X4\n",
       "ln_Y   1.000000  0.968807  0.859015  0.894303  0.961366\n",
       "ln_X1  0.968807  1.000000  0.941870  0.958683  0.987457\n",
       "ln_X2  0.859015  0.941870  1.000000  0.983037  0.936052\n",
       "ln_X3  0.894303  0.958683  0.983037  1.000000  0.947454\n",
       "ln_X4  0.961366  0.987457  0.936052  0.947454  1.000000"
      ]
     },
     "execution_count": 268,
     "metadata": {},
     "output_type": "execute_result"
    }
   ],
   "source": [
    "ln_data.corr()"
   ]
  },
  {
   "cell_type": "markdown",
   "metadata": {},
   "source": [
    "Корреляция между регрессорами положительная и очень высокая. Знание этого может помочь с интерпретацией далее построенных моделей"
   ]
  },
  {
   "cell_type": "markdown",
   "metadata": {},
   "source": [
    "## **Регрессии:**\n"
   ]
  },
  {
   "cell_type": "markdown",
   "metadata": {},
   "source": [
    "### *1. Функция спроса:*\n",
    "> \n",
    "> > $ \\hat{Y} = b_0 * X_{2}^{b_2} $\n",
    ">\n",
    "> Прологарифмирую:\n",
    ">\n",
    "> >$ ln(\\hat{Y}) = ln(b_0) + b_2 * ln(X_2) $\n",
    "> \n",
    "> Замена:\n",
    "> \n",
    "> > - $ \\tilde{\\hat{Y}} = ln(\\hat{Y}) $\n",
    "> >\n",
    "> > - $ \\tilde{b_0} = ln(b_0) $ \n",
    "> >\n",
    "> > - $ \\tilde{X_2} = ln(X_2) $ \n",
    "> >\n",
    "> Тогда линейный вид уравнения:\n",
    "> \n",
    "> > $ \\tilde{\\hat{Y}} = \\tilde{b_0} + b_2 * \\tilde{X_2} $ "
   ]
  },
  {
   "cell_type": "code",
   "execution_count": 269,
   "metadata": {},
   "outputs": [
    {
     "name": "stdout",
     "output_type": "stream",
     "text": [
      "                 Results: Ordinary least squares\n",
      "==================================================================\n",
      "Model:              OLS              Adj. R-squared:     0.722    \n",
      "Dependent Variable: ln_Y             AIC:                -41.0765 \n",
      "Date:               2023-12-11 21:37 BIC:                -39.1876 \n",
      "No. Observations:   19               Log-Likelihood:     22.538   \n",
      "Df Model:           1                F-statistic:        47.86    \n",
      "Df Residuals:       17               Prob (F-statistic): 2.49e-06 \n",
      "R-squared:          0.738            Scale:              0.0061022\n",
      "--------------------------------------------------------------------\n",
      "               Coef.    Std.Err.     t      P>|t|    [0.025   0.975]\n",
      "--------------------------------------------------------------------\n",
      "Intercept      1.5777     0.3105   5.0810   0.0001   0.9226   2.2328\n",
      "ln_X2          0.5527     0.0799   6.9183   0.0000   0.3842   0.7213\n",
      "------------------------------------------------------------------\n",
      "Omnibus:              0.824         Durbin-Watson:           0.780\n",
      "Prob(Omnibus):        0.662         Jarque-Bera (JB):        0.757\n",
      "Skew:                 -0.228        Prob(JB):                0.685\n",
      "Kurtosis:             2.135         Condition No.:           72   \n",
      "==================================================================\n",
      "\n"
     ]
    }
   ],
   "source": [
    "model_1 = smf.ols('ln_Y ~ ln_X2', data=ln_data).fit()\n",
    "\n",
    "print(model_1.summary2())"
   ]
  },
  {
   "cell_type": "code",
   "execution_count": 270,
   "metadata": {},
   "outputs": [
    {
     "data": {
      "image/png": "[encoded data removed]",
      "text/plain": [
       "<Figure size 640x480 with 1 Axes>"
      ]
     },
     "metadata": {},
     "output_type": "display_data"
    }
   ],
   "source": [
    "plt.plot(data.X2, np.exp(model_1.fittedvalues), color='purple', label='Функция спроса')\n",
    "plt.plot(data.X2, data.Y, color='red', label='Реальное потребление')\n",
    "plt.xlabel('стоимость одного фунта цыплят', fontsize=12)\n",
    "plt.ylabel('потребление цыплят', fontsize=12)\n",
    "plt.legend(fontsize=10)\n",
    "plt.grid(True)"
   ]
  },
  {
   "cell_type": "markdown",
   "metadata": {},
   "source": [
    "**Выводы:**\n",
    "\n",
    "- Регрессия в целом значима на любом разумном уровне значимости\n",
    "\n",
    "- Коэффициент $ b_2 $ значим на любом разумном уровне значимости\n",
    "\n",
    "- При увеличении стоимости одного фунта цыплят на 1%, потребление цыплят в Великобритании увеличивается на 0.5527%\n",
    "\n",
    "- Спрос неэластичен, так как коэффициент эластичности по модулю меньше 1\n",
    "\n",
    "- Поведение людей нестандартно. При увеличении стоимости, обычно, потребление уменьшается, а в нашем случае - увеличивается. \n",
    "\n",
    "> Возможным объяснением этого может быть отсутствие в уравнении других важных регрессоров (к примеру, цен на товары заменители), так как их отсутствие может привести к смещению коэффициента $b_2$. Если между включенным и невключенным \"важным\" регрессором существует сильная положительная корреляция, коэффициент будет смещён вверх. Возможно, в данном случае он смещён вверх настолько, что стал положительным\n",
    "\n",
    "- 72% общей вариативности логарифма потребления цыплят описывается логарифмом стоимости одного фунта цыплят"
   ]
  },
  {
   "cell_type": "markdown",
   "metadata": {},
   "source": [
    "### *2. Функция потребления:*\n",
    ">\n",
    "> > $ \\hat{Y} = b_0 * X_{1}^{b_1} $ \n",
    "> \n",
    "> Прологарифмирую:\n",
    ">\n",
    "> > $ ln(\\hat{Y}) = ln(b_0) + b_1 * ln(X_1) $\n",
    ">\n",
    "> Замена:\n",
    ">\n",
    "> > - $ \\tilde{\\hat{Y}} = ln(\\hat{Y}) $\n",
    "> >\n",
    "> > - $ \\tilde{b_0} = ln(b_0) $ \n",
    "> >\n",
    "> > - $ \\tilde{X_1} = ln(X_1) $ \n",
    ">\n",
    "> Тогда линейный вид уравнения:\n",
    ">\n",
    "> > $ \\tilde{\\hat{Y}} = \\tilde{b_0} + b_1 * \\tilde{X_1} $ "
   ]
  },
  {
   "cell_type": "code",
   "execution_count": 271,
   "metadata": {},
   "outputs": [
    {
     "name": "stdout",
     "output_type": "stream",
     "text": [
      "                 Results: Ordinary least squares\n",
      "==================================================================\n",
      "Model:              OLS              Adj. R-squared:     0.935    \n",
      "Dependent Variable: ln_Y             AIC:                -68.6468 \n",
      "Date:               2023-12-11 21:37 BIC:                -66.7579 \n",
      "No. Observations:   19               Log-Likelihood:     36.323   \n",
      "Df Model:           1                F-statistic:        259.8    \n",
      "Df Residuals:       17               Prob (F-statistic): 9.84e-12 \n",
      "R-squared:          0.939            Scale:              0.0014299\n",
      "--------------------------------------------------------------------\n",
      "              Coef.    Std.Err.      t      P>|t|    [0.025   0.975]\n",
      "--------------------------------------------------------------------\n",
      "Intercept     1.7460     0.1229   14.2043   0.0000   1.4867   2.0053\n",
      "ln_X1         0.2849     0.0177   16.1186   0.0000   0.2476   0.3222\n",
      "------------------------------------------------------------------\n",
      "Omnibus:              0.699         Durbin-Watson:           0.753\n",
      "Prob(Omnibus):        0.705         Jarque-Bera (JB):        0.672\n",
      "Skew:                 -0.381        Prob(JB):                0.715\n",
      "Kurtosis:             2.484         Condition No.:           101  \n",
      "==================================================================\n",
      "\n"
     ]
    }
   ],
   "source": [
    "model_2 = smf.ols('ln_Y ~ ln_X1', data=ln_data).fit()\n",
    "\n",
    "print(model_2.summary2())"
   ]
  },
  {
   "cell_type": "code",
   "execution_count": 272,
   "metadata": {},
   "outputs": [
    {
     "data": {
      "image/png": "[encoded data removed]",
      "text/plain": [
       "<Figure size 640x480 with 1 Axes>"
      ]
     },
     "metadata": {},
     "output_type": "display_data"
    }
   ],
   "source": [
    "plt.plot(data.X1, np.exp(model_2.fittedvalues), color='purple', label='Функция потребления')\n",
    "plt.plot(data.X1, data.Y, color='red', label='Реальное потребление')\n",
    "plt.xlabel('среднедушевой доход', fontsize=12)\n",
    "plt.ylabel('потребление цыплят', fontsize=12)\n",
    "plt.legend(fontsize=10)\n",
    "plt.grid(True)"
   ]
  },
  {
   "cell_type": "markdown",
   "metadata": {},
   "source": [
    "**Выводы:**\n",
    "\n",
    "- Регрессия в целом значима на любом разумном уровне значимости\n",
    "\n",
    "- Коэффициент $ b_1 $ значим на любом разумном уровне значимости\n",
    "\n",
    "- При увеличении среднедушевого дохода на 1%, потребление цыплят в Великобритании увеличивается на 0.2849%\n",
    "\n",
    "- Потребление неэластично, так как коэффициент эластичности по модулю меньше 1\n",
    "\n",
    "- Результаты логичны. При росте среднедушевого дохода потребление должно увеличиваться\n",
    "\n",
    "- 93.5% общей вариативности логарифма потребления цыплят описывается логарифмом стоимости одного фунта цыплят, что выше, чем в модели спроса"
   ]
  },
  {
   "cell_type": "markdown",
   "metadata": {},
   "source": [
    "### *3. Функция спроса-потребления:*\n",
    ">\n",
    "> > $ \\hat{Y} = b_0 * X_{1}^{b_1} * X_{2}^{b_2} $\n",
    ">\n",
    "> Прологарифмирую:\n",
    ">\n",
    "> > $ ln(\\hat{Y}) = ln(b_0) + b_1 * ln(X_1) + b_2 * ln(X_2)$\n",
    ">\n",
    "> Замена:\n",
    ">\n",
    "> > - $ \\tilde{\\hat{Y}} = ln(\\hat{Y}) $\n",
    "> >\n",
    "> > - $ \\tilde{b_0} = ln(b_0) $ \n",
    "> >\n",
    "> > - $ \\tilde{X_1} = ln(X_1) $ \n",
    "> >\n",
    "> > - $ \\tilde{X_2} = ln(X_2) $ \n",
    ">\n",
    "> Тогда линейный вид уравнения:\n",
    ">\n",
    "> > $ \\tilde{\\hat{Y}} = \\tilde{b_0} + b_1 * \\tilde{X_1} + b_2 * \\tilde{X_2}$ "
   ]
  },
  {
   "cell_type": "code",
   "execution_count": 273,
   "metadata": {},
   "outputs": [
    {
     "name": "stdout",
     "output_type": "stream",
     "text": [
      "                  Results: Ordinary least squares\n",
      "===================================================================\n",
      "Model:              OLS              Adj. R-squared:     0.959     \n",
      "Dependent Variable: ln_Y             AIC:                -76.7525  \n",
      "Date:               2023-12-11 21:37 BIC:                -73.9192  \n",
      "No. Observations:   19               Log-Likelihood:     41.376    \n",
      "Df Model:           2                F-statistic:        213.7     \n",
      "Df Residuals:       16               Prob (F-statistic): 2.87e-12  \n",
      "R-squared:          0.964            Scale:              0.00089256\n",
      "---------------------------------------------------------------------\n",
      "             Coef.    Std.Err.      t      P>|t|     [0.025    0.975]\n",
      "---------------------------------------------------------------------\n",
      "Intercept    2.0185     0.1267   15.9370   0.0000    1.7500    2.2870\n",
      "ln_X1        0.4161     0.0416   10.0113   0.0000    0.3280    0.5043\n",
      "ln_X2       -0.3048     0.0909   -3.3517   0.0041   -0.4976   -0.1120\n",
      "-------------------------------------------------------------------\n",
      "Omnibus:                0.235        Durbin-Watson:           1.566\n",
      "Prob(Omnibus):          0.889        Jarque-Bera (JB):        0.415\n",
      "Skew:                   0.166        Prob(JB):                0.812\n",
      "Kurtosis:               2.356        Condition No.:           170  \n",
      "===================================================================\n",
      "\n"
     ]
    }
   ],
   "source": [
    "model_3 = smf.ols('ln_Y ~ ln_X1 + ln_X2', data=ln_data).fit()\n",
    "\n",
    "print(model_3.summary2())"
   ]
  },
  {
   "cell_type": "code",
   "execution_count": 274,
   "metadata": {},
   "outputs": [
    {
     "data": {
      "image/png": "[encoded data removed]",
      "text/plain": [
       "<Figure size 640x480 with 1 Axes>"
      ]
     },
     "metadata": {},
     "output_type": "display_data"
    }
   ],
   "source": [
    "plt.plot(data.X2, np.exp(model_3.fittedvalues), color='purple', label='Функция спроса-потребления')\n",
    "plt.plot(data.X2, data.Y, color='red', label='Реальное потребление')\n",
    "plt.xlabel('стоимость одного фунта цыплят', fontsize=12)\n",
    "plt.ylabel('потребление цыплят', fontsize=12)\n",
    "plt.legend(fontsize=10)\n",
    "plt.grid(True)"
   ]
  },
  {
   "cell_type": "markdown",
   "metadata": {},
   "source": [
    "**Выводы:**\n",
    "\n",
    "- Сама регрессия, как и все коэффициенты в ней - значима.\n",
    "\n",
    "- При неизменной стоимости цыплят, при увеличении среднедушевого дохода на 1%, потребление цыплят увеличивается на 0.42%\n",
    "\n",
    "- При неизменном среднедушевом доходе, при увеличении стоимости цыплят на 1%, потребление цыплят уменьшается на 0.3%\n",
    "\n",
    "> Как только мы добавили в модель со стоимостью цыплят среднедушевой доход, коэффициент при стоимости цыплят стал ниже нуля. Это объясняется тем, что рост цены на цыплят в среднем сопровождается ростом среднедушевого дохода (присутствует положительная корреляция). Если этот среднедушевой доход не фиксировать, может получиться так, что при росте цен, среднедушевой доход увеличивается ещё сильнее, что приводит к увеличению потребления цыплят. Модель функции спроса, построенная ранее, говорит, что обычно так и происходит, так как коэффициент при стоимости цыплят в ней положительный.\n",
    "\n",
    "- Эта модель описывает 0.964% изменений дисперсии исходного признака, что говорит о том, что эта модель на данный момент является самой эффективной"
   ]
  },
  {
   "cell_type": "markdown",
   "metadata": {},
   "source": [
    "### *4. Функция спроса с учётом цены на товары-заменители:*\n",
    ">\n",
    "> > $ \\hat{Y} = b_0 * X_{2}^{b_2} * X_{3}^{b_3} * X_{4}^{b_4} $\n",
    ">\n",
    "> Прологарифмирую:\n",
    ">\n",
    "> > $ ln(\\hat{Y}) = ln(b_0) + b_2 * ln(X_2) + b_3 * ln(X_3) + b_4 * ln(X_4)$\n",
    ">\n",
    "> Замена:\n",
    ">\n",
    "> > - $ \\tilde{\\hat{Y}} = ln(\\hat{Y}) $\n",
    "> >\n",
    "> > - $ \\tilde{b_0} = ln(b_0) $ \n",
    "> >\n",
    "> > - $ \\tilde{X_2} = ln(X_2) $ \n",
    "> >\n",
    "> > - $ \\tilde{X_3} = ln(X_3) $ \n",
    "> >\n",
    "> > - $ \\tilde{X_4} = ln(X_4) $ \n",
    ">\n",
    "> Тогда линейный вид уравнения:\n",
    ">\n",
    "> > $ \\tilde{\\hat{Y}} = \\tilde{b_0} + b_2 * \\tilde{X_2} + b_3 * \\tilde{X_3} + b_4 * \\tilde{X_4} $ "
   ]
  },
  {
   "cell_type": "code",
   "execution_count": 275,
   "metadata": {},
   "outputs": [
    {
     "name": "stdout",
     "output_type": "stream",
     "text": [
      "                 Results: Ordinary least squares\n",
      "==================================================================\n",
      "Model:              OLS              Adj. R-squared:     0.935    \n",
      "Dependent Variable: ln_Y             AIC:                -67.1206 \n",
      "Date:               2023-12-11 21:37 BIC:                -63.3429 \n",
      "No. Observations:   19               Log-Likelihood:     37.560   \n",
      "Df Model:           3                F-statistic:        87.74    \n",
      "Df Residuals:       15               Prob (F-statistic): 9.73e-10 \n",
      "R-squared:          0.946            Scale:              0.0014227\n",
      "-------------------------------------------------------------------\n",
      "                Coef.   Std.Err.     t     P>|t|    [0.025   0.975]\n",
      "-------------------------------------------------------------------\n",
      "Intercept       2.3152    0.2215  10.4501  0.0000   1.8430   2.7874\n",
      "ln_X2          -0.4875    0.2110  -2.3102  0.0355  -0.9372  -0.0377\n",
      "ln_X3           0.2374    0.1556   1.5256  0.1479  -0.0943   0.5691\n",
      "ln_X4           0.4601    0.0753   6.1120  0.0000   0.2996   0.6205\n",
      "------------------------------------------------------------------\n",
      "Omnibus:              2.117         Durbin-Watson:           1.235\n",
      "Prob(Omnibus):        0.347         Jarque-Bera (JB):        1.739\n",
      "Skew:                 -0.641        Prob(JB):                0.419\n",
      "Kurtosis:             2.255         Condition No.:           288  \n",
      "==================================================================\n",
      "\n"
     ]
    }
   ],
   "source": [
    "model_4 = smf.ols('ln_Y ~ ln_X2 + ln_X3 + ln_X4', data=ln_data).fit()\n",
    "\n",
    "print(model_4.summary2())"
   ]
  },
  {
   "cell_type": "code",
   "execution_count": 276,
   "metadata": {},
   "outputs": [
    {
     "data": {
      "image/png": "[encoded data removed]",
      "text/plain": [
       "<Figure size 640x480 with 1 Axes>"
      ]
     },
     "metadata": {},
     "output_type": "display_data"
    }
   ],
   "source": [
    "plt.plot(data.X2, np.exp(model_4.fittedvalues), color='purple', label='Функция спроса с учетом цены на товары-заменители')\n",
    "plt.plot(data.X2, data.Y, color='red', label='Реальное потребление')\n",
    "plt.xlabel('стоимость одного фунта цыплят', fontsize=12)\n",
    "plt.ylabel('потребление цыплят', fontsize=12)\n",
    "plt.legend(fontsize=10)\n",
    "plt.grid(True)"
   ]
  },
  {
   "cell_type": "markdown",
   "metadata": {},
   "source": [
    "**Выводы:**\n",
    "\n",
    "- Модель в целом значима. Коэффициент при стоимости цыплят - значим на уровне значимости 5%, при стоимости свинины - не значим на уровне 5%, а коэффициент при стоимости говядины - значим на любом разумном уровне значимости\n",
    "\n",
    "- Мы видим, что потребление цыплят, при прочих неизменных условиях, с изменением стоимости одного фунта на 1%, уменьшается на 0.48%, когда при увеличении стоимости свинины и говядины на 1% - растёт на 0.23% и 0.46% соответственно при прочих равных\n",
    "\n",
    "> Также положительный коэффициент для функции спроса может объяснятся тем, что при повышении стоимости цыплят, цены на товары-заменители возрастают еще более значительно (присутствует сильная положительная корреляция). Это приводит к ситуации, когда с увеличением цен на цыплят их потребление не уменьшается, а, напротив, возрастает, так как они остаются относительно более дешевым выбором по сравнению с другими продуктами\n",
    "\n",
    "- Доля объяснённой дисперсии для этой модели равна 0.93, что говорит о том, что потребление зависит больше от среднедушевого дохода, чем от стоимости товаров-заменителей (при том, что их цена тоже важна), так как для модели функции спроса-потребления $R^2_{adj}$ был выше"
   ]
  },
  {
   "cell_type": "markdown",
   "metadata": {},
   "source": [
    "## **Тест Шапиро-Уилка:**"
   ]
  },
  {
   "cell_type": "markdown",
   "metadata": {},
   "source": [
    "$H_0$ - данные нормально распределены\n",
    "\n",
    "$H_1$ - данные распределены ненормально"
   ]
  },
  {
   "cell_type": "code",
   "execution_count": 277,
   "metadata": {},
   "outputs": [
    {
     "name": "stdout",
     "output_type": "stream",
     "text": [
      "p-value for X1 is 0.04197002574801445\n",
      "p-value for X2 is 0.008054640144109726\n",
      "p-value for X3 is 0.04003702849149704\n",
      "p-value for X4 is 0.01952611841261387\n"
     ]
    }
   ],
   "source": [
    "for var in data.drop(columns=['Y']).columns:\n",
    "    print('p-value for', var, 'is', stats.shapiro(data[var])[1])"
   ]
  },
  {
   "cell_type": "markdown",
   "metadata": {},
   "source": [
    " На уровне значимости 5% ни одна из переменных не имеет нормального распределения "
   ]
  },
  {
   "cell_type": "markdown",
   "metadata": {},
   "source": [
    "## **Преобразование Бокса-Кокса:**"
   ]
  },
  {
   "cell_type": "code",
   "execution_count": 278,
   "metadata": {},
   "outputs": [
    {
     "data": {
      "text/html": [
       "<div>\n",
       "<style scoped>\n",
       "    .dataframe tbody tr th:only-of-type {\n",
       "        vertical-align: middle;\n",
       "    }\n",
       "\n",
       "    .dataframe tbody tr th {\n",
       "        vertical-align: top;\n",
       "    }\n",
       "\n",
       "    .dataframe thead th {\n",
       "        text-align: right;\n",
       "    }\n",
       "</style>\n",
       "<table border=\"1\" class=\"dataframe\">\n",
       "  <thead>\n",
       "    <tr style=\"text-align: right;\">\n",
       "      <th></th>\n",
       "      <th>X1</th>\n",
       "      <th>X2</th>\n",
       "      <th>X3</th>\n",
       "      <th>X4</th>\n",
       "    </tr>\n",
       "  </thead>\n",
       "  <tbody>\n",
       "    <tr>\n",
       "      <th>0</th>\n",
       "      <td>2.795503</td>\n",
       "      <td>1.192043</td>\n",
       "      <td>2.523566</td>\n",
       "      <td>1.574717</td>\n",
       "    </tr>\n",
       "    <tr>\n",
       "      <th>1</th>\n",
       "      <td>2.806068</td>\n",
       "      <td>1.193245</td>\n",
       "      <td>2.578226</td>\n",
       "      <td>1.577477</td>\n",
       "    </tr>\n",
       "    <tr>\n",
       "      <th>2</th>\n",
       "      <td>2.814698</td>\n",
       "      <td>1.194966</td>\n",
       "      <td>2.610052</td>\n",
       "      <td>1.577668</td>\n",
       "    </tr>\n",
       "    <tr>\n",
       "      <th>3</th>\n",
       "      <td>2.830396</td>\n",
       "      <td>1.192800</td>\n",
       "      <td>2.590128</td>\n",
       "      <td>1.580898</td>\n",
       "    </tr>\n",
       "    <tr>\n",
       "      <th>4</th>\n",
       "      <td>2.839513</td>\n",
       "      <td>1.193684</td>\n",
       "      <td>2.582613</td>\n",
       "      <td>1.582304</td>\n",
       "    </tr>\n",
       "  </tbody>\n",
       "</table>\n",
       "</div>"
      ],
      "text/plain": [
       "         X1        X2        X3        X4\n",
       "0  2.795503  1.192043  2.523566  1.574717\n",
       "1  2.806068  1.193245  2.578226  1.577477\n",
       "2  2.814698  1.194966  2.610052  1.577668\n",
       "3  2.830396  1.192800  2.590128  1.580898\n",
       "4  2.839513  1.193684  2.582613  1.582304"
      ]
     },
     "execution_count": 278,
     "metadata": {},
     "output_type": "execute_result"
    }
   ],
   "source": [
    "data_boxcox = pd.DataFrame()\n",
    "for var in data.drop(columns=['Y']).columns: \n",
    "    data_boxcox[var] = stats.boxcox(data[var])[0]\n",
    "\n",
    "data_boxcox.head()"
   ]
  },
  {
   "cell_type": "markdown",
   "metadata": {},
   "source": [
    "## **Критерий Манна-Уитни:**"
   ]
  },
  {
   "cell_type": "markdown",
   "metadata": {},
   "source": [
    "$H_0$ - выборки однородны\n",
    "\n",
    "$H_1$ - выборки неоднородны"
   ]
  },
  {
   "cell_type": "code",
   "execution_count": 279,
   "metadata": {},
   "outputs": [
    {
     "data": {
      "text/plain": [
       "MannwhitneyuResult(statistic=0.0, pvalue=1.4798065133032065e-07)"
      ]
     },
     "execution_count": 279,
     "metadata": {},
     "output_type": "execute_result"
    }
   ],
   "source": [
    "stats.mannwhitneyu(data_boxcox.X2, data_boxcox.X3)"
   ]
  },
  {
   "cell_type": "markdown",
   "metadata": {},
   "source": [
    "Видно, что на любом разумном уровне значимости гипотеза об однородности выборок отклоняется. \n",
    "\n",
    "Это говорит о том, что распределение стоимостей одного фунта свинины образуется по другим законам относительно распределения стоимости одного фунта говядины"
   ]
  },
  {
   "cell_type": "markdown",
   "metadata": {},
   "source": [
    "## **Критерий Флигнера-Клипера:**"
   ]
  },
  {
   "cell_type": "markdown",
   "metadata": {},
   "source": [
    "$H_0$ - дисперсии двух выборок гомогенны\n",
    "\n",
    "$H_1$ - дисперсии двух выборок отличны друг от друга"
   ]
  },
  {
   "cell_type": "code",
   "execution_count": 280,
   "metadata": {},
   "outputs": [
    {
     "data": {
      "text/plain": [
       "FlignerResult(statistic=17.56785668435604, pvalue=2.7723506703585003e-05)"
      ]
     },
     "execution_count": 280,
     "metadata": {},
     "output_type": "execute_result"
    }
   ],
   "source": [
    "stats.fligner(data_boxcox.X2, data_boxcox.X3)"
   ]
  },
  {
   "cell_type": "markdown",
   "metadata": {},
   "source": [
    "Различия в дисперсиях статистически значимы на любом разумном уровне значимости. Это говорит о том, что разброс стоимости одного фунта цыплят не равен разбросу стоимости одного фунта свинины"
   ]
  },
  {
   "cell_type": "markdown",
   "metadata": {},
   "source": [
    "Так как критерий Стьюдента требует гомогенности дисперсий, воспользуюсь его модификацией - тестом Уэлча, который не требует предположения о равенстве диперсий между сравниваемыми группами "
   ]
  },
  {
   "cell_type": "markdown",
   "metadata": {},
   "source": [
    "$H_0$ - средняя стоимость одного фунта цыплят РАВНА средней стоимости одного фунта свинины\n",
    "\n",
    "$H_1$ - средняя стоимость одного фунта цыплят НЕ РАВНА средней стоимости одного фунта свинины"
   ]
  },
  {
   "cell_type": "code",
   "execution_count": 281,
   "metadata": {},
   "outputs": [
    {
     "data": {
      "text/plain": [
       "Ttest_indResult(statistic=-59.12265456715974, pvalue=2.1814249054774826e-22)"
      ]
     },
     "execution_count": 281,
     "metadata": {},
     "output_type": "execute_result"
    }
   ],
   "source": [
    "stats.ttest_ind(data_boxcox.X2, data_boxcox.X3, equal_var=False)"
   ]
  },
  {
   "cell_type": "markdown",
   "metadata": {},
   "source": [
    "На любом разумном уровне значимости, гипотеза о равенстве средних двух групп отклоняется"
   ]
  },
  {
   "cell_type": "code",
   "execution_count": 282,
   "metadata": {},
   "outputs": [
    {
     "name": "stdout",
     "output_type": "stream",
     "text": [
      "\n",
      "средняя стоимость одного фунта цыплят: 49.67368421052631, \n",
      "средняя стоимость одного фунта свинины: 98.27368421052631\n",
      "\n"
     ]
    }
   ],
   "source": [
    "print(f'''\n",
    "средняя стоимость одного фунта цыплят: {data.X2.mean()}, \n",
    "средняя стоимость одного фунта свинины: {data.X3.mean()}\n",
    "''')"
   ]
  },
  {
   "cell_type": "markdown",
   "metadata": {},
   "source": [
    "Разница между этими средними СТАТИСТИЧЕСКИ ЗНАЧИМА. Можно сказать, что фунт свинины в среднем дороже фунта цыплят"
   ]
  },
  {
   "cell_type": "markdown",
   "metadata": {},
   "source": [
    "# Задание 2\n",
    "---"
   ]
  },
  {
   "cell_type": "markdown",
   "metadata": {},
   "source": [
    "__`profitability`__ - прибыльность вложений в оборудование (%) \n",
    "\n",
    "__`staff`__ - среднее число сотрудников на один проект \n",
    "\n",
    "__`projects`__ - среднемесячное число проектов\n",
    "\n",
    "__`adverts`__ - доля расходов на рекламу и продвижение своего бренда (%)"
   ]
  },
  {
   "cell_type": "code",
   "execution_count": 283,
   "metadata": {},
   "outputs": [
    {
     "data": {
      "text/html": [
       "<div>\n",
       "<style scoped>\n",
       "    .dataframe tbody tr th:only-of-type {\n",
       "        vertical-align: middle;\n",
       "    }\n",
       "\n",
       "    .dataframe tbody tr th {\n",
       "        vertical-align: top;\n",
       "    }\n",
       "\n",
       "    .dataframe thead th {\n",
       "        text-align: right;\n",
       "    }\n",
       "</style>\n",
       "<table border=\"1\" class=\"dataframe\">\n",
       "  <thead>\n",
       "    <tr style=\"text-align: right;\">\n",
       "      <th></th>\n",
       "      <th>staff</th>\n",
       "      <th>adverts</th>\n",
       "      <th>projects</th>\n",
       "      <th>profitability</th>\n",
       "    </tr>\n",
       "  </thead>\n",
       "  <tbody>\n",
       "    <tr>\n",
       "      <th>0</th>\n",
       "      <td>8.768088</td>\n",
       "      <td>24.515827</td>\n",
       "      <td>8.499298</td>\n",
       "      <td>142.095390</td>\n",
       "    </tr>\n",
       "    <tr>\n",
       "      <th>1</th>\n",
       "      <td>9.129025</td>\n",
       "      <td>27.002612</td>\n",
       "      <td>7.414980</td>\n",
       "      <td>123.296482</td>\n",
       "    </tr>\n",
       "    <tr>\n",
       "      <th>2</th>\n",
       "      <td>8.269365</td>\n",
       "      <td>25.496132</td>\n",
       "      <td>6.524985</td>\n",
       "      <td>110.811052</td>\n",
       "    </tr>\n",
       "    <tr>\n",
       "      <th>3</th>\n",
       "      <td>9.838063</td>\n",
       "      <td>18.273113</td>\n",
       "      <td>5.211359</td>\n",
       "      <td>90.649576</td>\n",
       "    </tr>\n",
       "    <tr>\n",
       "      <th>4</th>\n",
       "      <td>10.382268</td>\n",
       "      <td>11.992892</td>\n",
       "      <td>7.973063</td>\n",
       "      <td>84.343632</td>\n",
       "    </tr>\n",
       "  </tbody>\n",
       "</table>\n",
       "</div>"
      ],
      "text/plain": [
       "       staff    adverts  projects  profitability\n",
       "0   8.768088  24.515827  8.499298     142.095390\n",
       "1   9.129025  27.002612  7.414980     123.296482\n",
       "2   8.269365  25.496132  6.524985     110.811052\n",
       "3   9.838063  18.273113  5.211359      90.649576\n",
       "4  10.382268  11.992892  7.973063      84.343632"
      ]
     },
     "execution_count": 283,
     "metadata": {},
     "output_type": "execute_result"
    }
   ],
   "source": [
    "data = pd.read_excel('задание2.xlsx')\n",
    "\n",
    "data.head()"
   ]
  },
  {
   "cell_type": "code",
   "execution_count": 284,
   "metadata": {},
   "outputs": [
    {
     "data": {
      "text/html": [
       "<div>\n",
       "<style scoped>\n",
       "    .dataframe tbody tr th:only-of-type {\n",
       "        vertical-align: middle;\n",
       "    }\n",
       "\n",
       "    .dataframe tbody tr th {\n",
       "        vertical-align: top;\n",
       "    }\n",
       "\n",
       "    .dataframe thead th {\n",
       "        text-align: right;\n",
       "    }\n",
       "</style>\n",
       "<table border=\"1\" class=\"dataframe\">\n",
       "  <thead>\n",
       "    <tr style=\"text-align: right;\">\n",
       "      <th></th>\n",
       "      <th>Степень полинома</th>\n",
       "      <th>r2</th>\n",
       "      <th>r2_adj</th>\n",
       "    </tr>\n",
       "  </thead>\n",
       "  <tbody>\n",
       "    <tr>\n",
       "      <th>0</th>\n",
       "      <td>1</td>\n",
       "      <td>0.756501</td>\n",
       "      <td>0.740620</td>\n",
       "    </tr>\n",
       "    <tr>\n",
       "      <th>1</th>\n",
       "      <td>2</td>\n",
       "      <td>0.912502</td>\n",
       "      <td>0.892814</td>\n",
       "    </tr>\n",
       "    <tr>\n",
       "      <th>2</th>\n",
       "      <td>3</td>\n",
       "      <td>0.960651</td>\n",
       "      <td>0.935730</td>\n",
       "    </tr>\n",
       "    <tr>\n",
       "      <th>3</th>\n",
       "      <td>4</td>\n",
       "      <td>0.966790</td>\n",
       "      <td>0.891513</td>\n",
       "    </tr>\n",
       "    <tr>\n",
       "      <th>4</th>\n",
       "      <td>5</td>\n",
       "      <td>1.000000</td>\n",
       "      <td>1.000000</td>\n",
       "    </tr>\n",
       "    <tr>\n",
       "      <th>5</th>\n",
       "      <td>6</td>\n",
       "      <td>1.000000</td>\n",
       "      <td>1.000000</td>\n",
       "    </tr>\n",
       "  </tbody>\n",
       "</table>\n",
       "</div>"
      ],
      "text/plain": [
       "   Степень полинома        r2    r2_adj\n",
       "0                 1  0.756501  0.740620\n",
       "1                 2  0.912502  0.892814\n",
       "2                 3  0.960651  0.935730\n",
       "3                 4  0.966790  0.891513\n",
       "4                 5  1.000000  1.000000\n",
       "5                 6  1.000000  1.000000"
      ]
     },
     "execution_count": 284,
     "metadata": {},
     "output_type": "execute_result"
    }
   ],
   "source": [
    "def check_polynomial(X, y):\n",
    "    \n",
    "    degree = []\n",
    "    r2_list = []\n",
    "    r2_adj_list = []\n",
    "\n",
    "    i = 1\n",
    "    while True:\n",
    "        \n",
    "        X_poly = PolynomialFeatures(degree=i).fit_transform(X)\n",
    "\n",
    "        n = X_poly.shape[0]\n",
    "        k = X_poly.shape[1]\n",
    "\n",
    "        if k > 100:\n",
    "            break\n",
    "\n",
    "        model = LinearRegression().fit(X_poly, y)\n",
    "\n",
    "        r2 = model.score(X_poly, y)\n",
    "        r2_adj = 1 - (1 - r2) * (n - 1) / (n - k)\n",
    "\n",
    "        degree.append(i)\n",
    "        r2_list.append(r2)\n",
    "        r2_adj_list.append(r2_adj)\n",
    "\n",
    "        i += 1\n",
    "    \n",
    "    result = pd.DataFrame(\n",
    "        {\n",
    "            'Степень полинома': degree,\n",
    "            'r2': r2_list,\n",
    "            'r2_adj': r2_adj_list\n",
    "        }\n",
    "    )\n",
    "\n",
    "    return result\n",
    "\n",
    "cp = check_polynomial(data.drop(columns=['profitability']), data.profitability)\n",
    "\n",
    "sns.lineplot()"
   ]
  },
  {
   "cell_type": "markdown",
   "metadata": {},
   "source": [
    "Нужно ли вообще менять спецификацию модели? Проведу RESET тест Рамсея"
   ]
  },
  {
   "cell_type": "code",
   "execution_count": 285,
   "metadata": {},
   "outputs": [
    {
     "data": {
      "image/png": "[encoded data removed]",
      "text/plain": [
       "<Figure size 640x480 with 1 Axes>"
      ]
     },
     "metadata": {},
     "output_type": "display_data"
    }
   ],
   "source": [
    "model = smf.ols('profitability ~ staff + adverts + projects', data=data).fit()\n",
    "\n",
    "p_values = []\n",
    "for i in range(2, 6):\n",
    "    p_values.append(linear_reset(model, use_f=True, power=i).pvalue)\n",
    "\n",
    "plt.plot(range(2, 6), p_values)\n",
    "plt.xlabel('степень полинома')\n",
    "plt.ylabel('p-value')\n",
    "plt.show()"
   ]
  },
  {
   "cell_type": "markdown",
   "metadata": {},
   "source": [
    "Для всех доступных степеней полиномов, результаты теста говорят о том, что значимой информации в них нет (недостаточно оснований отклонить нулевую гипотезу). "
   ]
  },
  {
   "cell_type": "code",
   "execution_count": null,
   "metadata": {},
   "outputs": [],
   "source": []
  }
 ],
 "metadata": {
  "kernelspec": {
   "display_name": "base",
   "language": "python",
   "name": "python3"
  },
  "language_info": {
   "codemirror_mode": {
    "name": "ipython",
    "version": 3
   },
   "file_extension": ".py",
   "mimetype": "text/x-python",
   "name": "python",
   "nbconvert_exporter": "python",
   "pygments_lexer": "ipython3",
   "version": "3.10.9"
  }
 },
 "nbformat": 4,
 "nbformat_minor": 2
}
