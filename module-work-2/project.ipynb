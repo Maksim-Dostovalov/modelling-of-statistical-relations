{
 "cells": [
  {
   "cell_type": "code",
   "execution_count": 1216,
   "metadata": {},
   "outputs": [],
   "source": [
    "import pandas as pd \n",
    "import numpy as np\n",
    "import statsmodels.api as sm\n",
    "import statsmodels.formula.api as smf\n",
    "from statsmodels.stats.diagnostic import linear_reset\n",
    "from scipy import stats\n",
    "from sklearn.preprocessing import PolynomialFeatures, StandardScaler\n",
    "from sklearn.linear_model import LinearRegression, LogisticRegression\n",
    "from sklearn.feature_selection import RFECV\n",
    "from sklearn.model_selection import train_test_split, cross_val_score, StratifiedKFold\n",
    "from sklearn.decomposition import PCA\n",
    "from sklearn.metrics import confusion_matrix, roc_curve, roc_auc_score\n",
    "\n",
    "import matplotlib.pyplot as plt\n",
    "import seaborn as sns\n",
    "\n",
    "import warnings\n",
    "warnings.filterwarnings(\"ignore\")"
   ]
  },
  {
   "cell_type": "markdown",
   "metadata": {},
   "source": [
    "# Задание 1\n",
    "___"
   ]
  },
  {
   "cell_type": "markdown",
   "metadata": {},
   "source": [
    "__`Y`__ - потребление цыплят\n",
    "\n",
    "__`X1`__ - среднедушевой доход\n",
    "\n",
    "__`X2`__ - стоимость одного фунта цыплят\n",
    "\n",
    "__`X3`__ - стоимость одного фунта свинины \n",
    "\n",
    "__`X4`__ - стоимость одного фунта говядины "
   ]
  },
  {
   "cell_type": "code",
   "execution_count": 1217,
   "metadata": {},
   "outputs": [
    {
     "data": {
      "text/html": [
       "<div>\n",
       "<style scoped>\n",
       "    .dataframe tbody tr th:only-of-type {\n",
       "        vertical-align: middle;\n",
       "    }\n",
       "\n",
       "    .dataframe tbody tr th {\n",
       "        vertical-align: top;\n",
       "    }\n",
       "\n",
       "    .dataframe thead th {\n",
       "        text-align: right;\n",
       "    }\n",
       "</style>\n",
       "<table border=\"1\" class=\"dataframe\">\n",
       "  <thead>\n",
       "    <tr style=\"text-align: right;\">\n",
       "      <th></th>\n",
       "      <th>Y</th>\n",
       "      <th>X1</th>\n",
       "      <th>X2</th>\n",
       "      <th>X3</th>\n",
       "      <th>X4</th>\n",
       "    </tr>\n",
       "    <tr>\n",
       "      <th>t</th>\n",
       "      <th></th>\n",
       "      <th></th>\n",
       "      <th></th>\n",
       "      <th></th>\n",
       "      <th></th>\n",
       "    </tr>\n",
       "  </thead>\n",
       "  <tbody>\n",
       "    <tr>\n",
       "      <th>1</th>\n",
       "      <td>31.2</td>\n",
       "      <td>492.9</td>\n",
       "      <td>37.3</td>\n",
       "      <td>54.7</td>\n",
       "      <td>77.4</td>\n",
       "    </tr>\n",
       "    <tr>\n",
       "      <th>2</th>\n",
       "      <td>33.3</td>\n",
       "      <td>528.6</td>\n",
       "      <td>38.1</td>\n",
       "      <td>63.7</td>\n",
       "      <td>80.2</td>\n",
       "    </tr>\n",
       "    <tr>\n",
       "      <th>3</th>\n",
       "      <td>35.6</td>\n",
       "      <td>560.3</td>\n",
       "      <td>39.3</td>\n",
       "      <td>69.8</td>\n",
       "      <td>80.4</td>\n",
       "    </tr>\n",
       "    <tr>\n",
       "      <th>4</th>\n",
       "      <td>36.4</td>\n",
       "      <td>624.6</td>\n",
       "      <td>37.8</td>\n",
       "      <td>65.9</td>\n",
       "      <td>83.9</td>\n",
       "    </tr>\n",
       "    <tr>\n",
       "      <th>5</th>\n",
       "      <td>36.7</td>\n",
       "      <td>666.4</td>\n",
       "      <td>38.4</td>\n",
       "      <td>64.5</td>\n",
       "      <td>85.5</td>\n",
       "    </tr>\n",
       "  </tbody>\n",
       "</table>\n",
       "</div>"
      ],
      "text/plain": [
       "      Y     X1    X2    X3    X4\n",
       "t                               \n",
       "1  31.2  492.9  37.3  54.7  77.4\n",
       "2  33.3  528.6  38.1  63.7  80.2\n",
       "3  35.6  560.3  39.3  69.8  80.4\n",
       "4  36.4  624.6  37.8  65.9  83.9\n",
       "5  36.7  666.4  38.4  64.5  85.5"
      ]
     },
     "execution_count": 1217,
     "metadata": {},
     "output_type": "execute_result"
    }
   ],
   "source": [
    "data = pd.read_excel('задание1.xlsx', index_col=0)\n",
    "\n",
    "data.head()"
   ]
  },
  {
   "cell_type": "markdown",
   "metadata": {},
   "source": [
    "Добавлю необходимые в будущем столбцы:"
   ]
  },
  {
   "cell_type": "code",
   "execution_count": 1218,
   "metadata": {},
   "outputs": [
    {
     "data": {
      "text/html": [
       "<div>\n",
       "<style scoped>\n",
       "    .dataframe tbody tr th:only-of-type {\n",
       "        vertical-align: middle;\n",
       "    }\n",
       "\n",
       "    .dataframe tbody tr th {\n",
       "        vertical-align: top;\n",
       "    }\n",
       "\n",
       "    .dataframe thead th {\n",
       "        text-align: right;\n",
       "    }\n",
       "</style>\n",
       "<table border=\"1\" class=\"dataframe\">\n",
       "  <thead>\n",
       "    <tr style=\"text-align: right;\">\n",
       "      <th></th>\n",
       "      <th>ln_Y</th>\n",
       "      <th>ln_X1</th>\n",
       "      <th>ln_X2</th>\n",
       "      <th>ln_X3</th>\n",
       "      <th>ln_X4</th>\n",
       "    </tr>\n",
       "    <tr>\n",
       "      <th>t</th>\n",
       "      <th></th>\n",
       "      <th></th>\n",
       "      <th></th>\n",
       "      <th></th>\n",
       "      <th></th>\n",
       "    </tr>\n",
       "  </thead>\n",
       "  <tbody>\n",
       "    <tr>\n",
       "      <th>1</th>\n",
       "      <td>3.440418</td>\n",
       "      <td>6.200306</td>\n",
       "      <td>3.618993</td>\n",
       "      <td>4.001864</td>\n",
       "      <td>4.348987</td>\n",
       "    </tr>\n",
       "    <tr>\n",
       "      <th>2</th>\n",
       "      <td>3.505557</td>\n",
       "      <td>6.270232</td>\n",
       "      <td>3.640214</td>\n",
       "      <td>4.154185</td>\n",
       "      <td>4.384524</td>\n",
       "    </tr>\n",
       "    <tr>\n",
       "      <th>3</th>\n",
       "      <td>3.572346</td>\n",
       "      <td>6.328472</td>\n",
       "      <td>3.671225</td>\n",
       "      <td>4.245634</td>\n",
       "      <td>4.387014</td>\n",
       "    </tr>\n",
       "    <tr>\n",
       "      <th>4</th>\n",
       "      <td>3.594569</td>\n",
       "      <td>6.437111</td>\n",
       "      <td>3.632309</td>\n",
       "      <td>4.188138</td>\n",
       "      <td>4.429626</td>\n",
       "    </tr>\n",
       "    <tr>\n",
       "      <th>5</th>\n",
       "      <td>3.602777</td>\n",
       "      <td>6.501890</td>\n",
       "      <td>3.648057</td>\n",
       "      <td>4.166665</td>\n",
       "      <td>4.448516</td>\n",
       "    </tr>\n",
       "  </tbody>\n",
       "</table>\n",
       "</div>"
      ],
      "text/plain": [
       "       ln_Y     ln_X1     ln_X2     ln_X3     ln_X4\n",
       "t                                                  \n",
       "1  3.440418  6.200306  3.618993  4.001864  4.348987\n",
       "2  3.505557  6.270232  3.640214  4.154185  4.384524\n",
       "3  3.572346  6.328472  3.671225  4.245634  4.387014\n",
       "4  3.594569  6.437111  3.632309  4.188138  4.429626\n",
       "5  3.602777  6.501890  3.648057  4.166665  4.448516"
      ]
     },
     "execution_count": 1218,
     "metadata": {},
     "output_type": "execute_result"
    }
   ],
   "source": [
    "ln_data = np.log(data)\n",
    "ln_data.columns = ['ln_' + col for col in ln_data.columns]\n",
    "\n",
    "ln_data.head()"
   ]
  },
  {
   "cell_type": "markdown",
   "metadata": {},
   "source": [
    "Полезно будет посмотреть корреляции регрессоров:"
   ]
  },
  {
   "cell_type": "code",
   "execution_count": 1219,
   "metadata": {},
   "outputs": [
    {
     "data": {
      "text/html": [
       "<div>\n",
       "<style scoped>\n",
       "    .dataframe tbody tr th:only-of-type {\n",
       "        vertical-align: middle;\n",
       "    }\n",
       "\n",
       "    .dataframe tbody tr th {\n",
       "        vertical-align: top;\n",
       "    }\n",
       "\n",
       "    .dataframe thead th {\n",
       "        text-align: right;\n",
       "    }\n",
       "</style>\n",
       "<table border=\"1\" class=\"dataframe\">\n",
       "  <thead>\n",
       "    <tr style=\"text-align: right;\">\n",
       "      <th></th>\n",
       "      <th>ln_Y</th>\n",
       "      <th>ln_X1</th>\n",
       "      <th>ln_X2</th>\n",
       "      <th>ln_X3</th>\n",
       "      <th>ln_X4</th>\n",
       "    </tr>\n",
       "  </thead>\n",
       "  <tbody>\n",
       "    <tr>\n",
       "      <th>ln_Y</th>\n",
       "      <td>1.000000</td>\n",
       "      <td>0.968807</td>\n",
       "      <td>0.859015</td>\n",
       "      <td>0.894303</td>\n",
       "      <td>0.961366</td>\n",
       "    </tr>\n",
       "    <tr>\n",
       "      <th>ln_X1</th>\n",
       "      <td>0.968807</td>\n",
       "      <td>1.000000</td>\n",
       "      <td>0.941870</td>\n",
       "      <td>0.958683</td>\n",
       "      <td>0.987457</td>\n",
       "    </tr>\n",
       "    <tr>\n",
       "      <th>ln_X2</th>\n",
       "      <td>0.859015</td>\n",
       "      <td>0.941870</td>\n",
       "      <td>1.000000</td>\n",
       "      <td>0.983037</td>\n",
       "      <td>0.936052</td>\n",
       "    </tr>\n",
       "    <tr>\n",
       "      <th>ln_X3</th>\n",
       "      <td>0.894303</td>\n",
       "      <td>0.958683</td>\n",
       "      <td>0.983037</td>\n",
       "      <td>1.000000</td>\n",
       "      <td>0.947454</td>\n",
       "    </tr>\n",
       "    <tr>\n",
       "      <th>ln_X4</th>\n",
       "      <td>0.961366</td>\n",
       "      <td>0.987457</td>\n",
       "      <td>0.936052</td>\n",
       "      <td>0.947454</td>\n",
       "      <td>1.000000</td>\n",
       "    </tr>\n",
       "  </tbody>\n",
       "</table>\n",
       "</div>"
      ],
      "text/plain": [
       "           ln_Y     ln_X1     ln_X2     ln_X3     ln_X4\n",
       "ln_Y   1.000000  0.968807  0.859015  0.894303  0.961366\n",
       "ln_X1  0.968807  1.000000  0.941870  0.958683  0.987457\n",
       "ln_X2  0.859015  0.941870  1.000000  0.983037  0.936052\n",
       "ln_X3  0.894303  0.958683  0.983037  1.000000  0.947454\n",
       "ln_X4  0.961366  0.987457  0.936052  0.947454  1.000000"
      ]
     },
     "execution_count": 1219,
     "metadata": {},
     "output_type": "execute_result"
    }
   ],
   "source": [
    "ln_data.corr()"
   ]
  },
  {
   "cell_type": "markdown",
   "metadata": {},
   "source": [
    "Корреляция между регрессорами положительная и очень высокая. Знание этого может помочь с интерпретацией далее построенных моделей"
   ]
  },
  {
   "cell_type": "markdown",
   "metadata": {},
   "source": [
    "## **Регрессии:**\n"
   ]
  },
  {
   "cell_type": "markdown",
   "metadata": {},
   "source": [
    "### *1. Функция спроса:*\n",
    "> \n",
    "> > $ \\hat{Y} = b_0 * X_{2}^{b_2} $\n",
    ">\n",
    "> Прологарифмирую:\n",
    ">\n",
    "> >$ ln(\\hat{Y}) = ln(b_0) + b_2 * ln(X_2) $\n",
    "> \n",
    "> Замена:\n",
    "> \n",
    "> > - $ \\tilde{\\hat{Y}} = ln(\\hat{Y}) $\n",
    "> >\n",
    "> > - $ \\tilde{b_0} = ln(b_0) $ \n",
    "> >\n",
    "> > - $ \\tilde{X_2} = ln(X_2) $ \n",
    "> >\n",
    "> Тогда линейный вид уравнения:\n",
    "> \n",
    "> > $ \\tilde{\\hat{Y}} = \\tilde{b_0} + b_2 * \\tilde{X_2} $ "
   ]
  },
  {
   "cell_type": "code",
   "execution_count": 1220,
   "metadata": {},
   "outputs": [
    {
     "name": "stdout",
     "output_type": "stream",
     "text": [
      "                 Results: Ordinary least squares\n",
      "==================================================================\n",
      "Model:              OLS              Adj. R-squared:     0.722    \n",
      "Dependent Variable: ln_Y             AIC:                -41.0765 \n",
      "Date:               2023-12-12 17:40 BIC:                -39.1876 \n",
      "No. Observations:   19               Log-Likelihood:     22.538   \n",
      "Df Model:           1                F-statistic:        47.86    \n",
      "Df Residuals:       17               Prob (F-statistic): 2.49e-06 \n",
      "R-squared:          0.738            Scale:              0.0061022\n",
      "--------------------------------------------------------------------\n",
      "               Coef.    Std.Err.     t      P>|t|    [0.025   0.975]\n",
      "--------------------------------------------------------------------\n",
      "Intercept      1.5777     0.3105   5.0810   0.0001   0.9226   2.2328\n",
      "ln_X2          0.5527     0.0799   6.9183   0.0000   0.3842   0.7213\n",
      "------------------------------------------------------------------\n",
      "Omnibus:              0.824         Durbin-Watson:           0.780\n",
      "Prob(Omnibus):        0.662         Jarque-Bera (JB):        0.757\n",
      "Skew:                 -0.228        Prob(JB):                0.685\n",
      "Kurtosis:             2.135         Condition No.:           72   \n",
      "==================================================================\n",
      "\n"
     ]
    }
   ],
   "source": [
    "model_1 = smf.ols('ln_Y ~ ln_X2', data=ln_data).fit()\n",
    "\n",
    "print(model_1.summary2())"
   ]
  },
  {
   "cell_type": "code",
   "execution_count": 1221,
   "metadata": {},
   "outputs": [
    {
     "data": {
      "image/png": "[encoded data removed]",
      "text/plain": [
       "<Figure size 640x480 with 1 Axes>"
      ]
     },
     "metadata": {},
     "output_type": "display_data"
    }
   ],
   "source": [
    "plt.plot(data.X2, np.exp(model_1.fittedvalues), color='purple', label='Функция спроса')\n",
    "plt.plot(data.X2, data.Y, color='red', label='Реальное потребление')\n",
    "plt.xlabel('стоимость одного фунта цыплят', fontsize=12)\n",
    "plt.ylabel('потребление цыплят', fontsize=12)\n",
    "plt.legend(fontsize=10)\n",
    "plt.grid(True)"
   ]
  },
  {
   "cell_type": "markdown",
   "metadata": {},
   "source": [
    "**Выводы:**\n",
    "\n",
    "- Регрессия в целом значима на любом разумном уровне значимости\n",
    "\n",
    "- Коэффициент $ b_2 $ значим на любом разумном уровне значимости\n",
    "\n",
    "- При увеличении стоимости одного фунта цыплят на 1%, потребление цыплят в Великобритании увеличивается на 0.5527%\n",
    "\n",
    "- Спрос неэластичен, так как коэффициент эластичности по модулю меньше 1\n",
    "\n",
    "- Поведение людей нестандартно. При увеличении стоимости, обычно, потребление уменьшается, а в нашем случае - увеличивается. \n",
    "\n",
    "> Возможным объяснением этого может быть отсутствие в уравнении других важных регрессоров (к примеру, цен на товары заменители), так как их отсутствие может привести к смещению коэффициента $b_2$. Если между включенным и невключенным \"важным\" регрессором существует сильная положительная корреляция, коэффициент будет смещён вверх. Возможно, в данном случае он смещён вверх настолько, что стал положительным\n",
    "\n",
    "- 72% общей вариативности логарифма потребления цыплят описывается логарифмом стоимости одного фунта цыплят"
   ]
  },
  {
   "cell_type": "markdown",
   "metadata": {},
   "source": [
    "### *2. Функция потребления:*\n",
    ">\n",
    "> > $ \\hat{Y} = b_0 * X_{1}^{b_1} $ \n",
    "> \n",
    "> Прологарифмирую:\n",
    ">\n",
    "> > $ ln(\\hat{Y}) = ln(b_0) + b_1 * ln(X_1) $\n",
    ">\n",
    "> Замена:\n",
    ">\n",
    "> > - $ \\tilde{\\hat{Y}} = ln(\\hat{Y}) $\n",
    "> >\n",
    "> > - $ \\tilde{b_0} = ln(b_0) $ \n",
    "> >\n",
    "> > - $ \\tilde{X_1} = ln(X_1) $ \n",
    ">\n",
    "> Тогда линейный вид уравнения:\n",
    ">\n",
    "> > $ \\tilde{\\hat{Y}} = \\tilde{b_0} + b_1 * \\tilde{X_1} $ "
   ]
  },
  {
   "cell_type": "code",
   "execution_count": 1222,
   "metadata": {},
   "outputs": [
    {
     "name": "stdout",
     "output_type": "stream",
     "text": [
      "                 Results: Ordinary least squares\n",
      "==================================================================\n",
      "Model:              OLS              Adj. R-squared:     0.935    \n",
      "Dependent Variable: ln_Y             AIC:                -68.6468 \n",
      "Date:               2023-12-12 17:40 BIC:                -66.7579 \n",
      "No. Observations:   19               Log-Likelihood:     36.323   \n",
      "Df Model:           1                F-statistic:        259.8    \n",
      "Df Residuals:       17               Prob (F-statistic): 9.84e-12 \n",
      "R-squared:          0.939            Scale:              0.0014299\n",
      "--------------------------------------------------------------------\n",
      "              Coef.    Std.Err.      t      P>|t|    [0.025   0.975]\n",
      "--------------------------------------------------------------------\n",
      "Intercept     1.7460     0.1229   14.2043   0.0000   1.4867   2.0053\n",
      "ln_X1         0.2849     0.0177   16.1186   0.0000   0.2476   0.3222\n",
      "------------------------------------------------------------------\n",
      "Omnibus:              0.699         Durbin-Watson:           0.753\n",
      "Prob(Omnibus):        0.705         Jarque-Bera (JB):        0.672\n",
      "Skew:                 -0.381        Prob(JB):                0.715\n",
      "Kurtosis:             2.484         Condition No.:           101  \n",
      "==================================================================\n",
      "\n"
     ]
    }
   ],
   "source": [
    "model_2 = smf.ols('ln_Y ~ ln_X1', data=ln_data).fit()\n",
    "\n",
    "print(model_2.summary2())"
   ]
  },
  {
   "cell_type": "code",
   "execution_count": 1223,
   "metadata": {},
   "outputs": [
    {
     "data": {
      "image/png": "[encoded data removed]",
      "text/plain": [
       "<Figure size 640x480 with 1 Axes>"
      ]
     },
     "metadata": {},
     "output_type": "display_data"
    }
   ],
   "source": [
    "plt.plot(data.X1, np.exp(model_2.fittedvalues), color='purple', label='Функция потребления')\n",
    "plt.plot(data.X1, data.Y, color='red', label='Реальное потребление')\n",
    "plt.xlabel('среднедушевой доход', fontsize=12)\n",
    "plt.ylabel('потребление цыплят', fontsize=12)\n",
    "plt.legend(fontsize=10)\n",
    "plt.grid(True)"
   ]
  },
  {
   "cell_type": "markdown",
   "metadata": {},
   "source": [
    "**Выводы:**\n",
    "\n",
    "- Регрессия в целом значима на любом разумном уровне значимости\n",
    "\n",
    "- Коэффициент $ b_1 $ значим на любом разумном уровне значимости\n",
    "\n",
    "- При увеличении среднедушевого дохода на 1%, потребление цыплят в Великобритании увеличивается на 0.2849%\n",
    "\n",
    "- Потребление неэластично, так как коэффициент эластичности по модулю меньше 1\n",
    "\n",
    "- Результаты логичны. При росте среднедушевого дохода потребление должно увеличиваться\n",
    "\n",
    "- 93.5% общей вариативности логарифма потребления цыплят описывается логарифмом стоимости одного фунта цыплят, что выше, чем в модели спроса"
   ]
  },
  {
   "cell_type": "markdown",
   "metadata": {},
   "source": [
    "### *3. Функция спроса-потребления:*\n",
    ">\n",
    "> > $ \\hat{Y} = b_0 * X_{1}^{b_1} * X_{2}^{b_2} $\n",
    ">\n",
    "> Прологарифмирую:\n",
    ">\n",
    "> > $ ln(\\hat{Y}) = ln(b_0) + b_1 * ln(X_1) + b_2 * ln(X_2)$\n",
    ">\n",
    "> Замена:\n",
    ">\n",
    "> > - $ \\tilde{\\hat{Y}} = ln(\\hat{Y}) $\n",
    "> >\n",
    "> > - $ \\tilde{b_0} = ln(b_0) $ \n",
    "> >\n",
    "> > - $ \\tilde{X_1} = ln(X_1) $ \n",
    "> >\n",
    "> > - $ \\tilde{X_2} = ln(X_2) $ \n",
    ">\n",
    "> Тогда линейный вид уравнения:\n",
    ">\n",
    "> > $ \\tilde{\\hat{Y}} = \\tilde{b_0} + b_1 * \\tilde{X_1} + b_2 * \\tilde{X_2}$ "
   ]
  },
  {
   "cell_type": "code",
   "execution_count": 1224,
   "metadata": {},
   "outputs": [
    {
     "name": "stdout",
     "output_type": "stream",
     "text": [
      "                  Results: Ordinary least squares\n",
      "===================================================================\n",
      "Model:              OLS              Adj. R-squared:     0.959     \n",
      "Dependent Variable: ln_Y             AIC:                -76.7525  \n",
      "Date:               2023-12-12 17:40 BIC:                -73.9192  \n",
      "No. Observations:   19               Log-Likelihood:     41.376    \n",
      "Df Model:           2                F-statistic:        213.7     \n",
      "Df Residuals:       16               Prob (F-statistic): 2.87e-12  \n",
      "R-squared:          0.964            Scale:              0.00089256\n",
      "---------------------------------------------------------------------\n",
      "             Coef.    Std.Err.      t      P>|t|     [0.025    0.975]\n",
      "---------------------------------------------------------------------\n",
      "Intercept    2.0185     0.1267   15.9370   0.0000    1.7500    2.2870\n",
      "ln_X1        0.4161     0.0416   10.0113   0.0000    0.3280    0.5043\n",
      "ln_X2       -0.3048     0.0909   -3.3517   0.0041   -0.4976   -0.1120\n",
      "-------------------------------------------------------------------\n",
      "Omnibus:                0.235        Durbin-Watson:           1.566\n",
      "Prob(Omnibus):          0.889        Jarque-Bera (JB):        0.415\n",
      "Skew:                   0.166        Prob(JB):                0.812\n",
      "Kurtosis:               2.356        Condition No.:           170  \n",
      "===================================================================\n",
      "\n"
     ]
    }
   ],
   "source": [
    "model_3 = smf.ols('ln_Y ~ ln_X1 + ln_X2', data=ln_data).fit()\n",
    "\n",
    "print(model_3.summary2())"
   ]
  },
  {
   "cell_type": "code",
   "execution_count": 1225,
   "metadata": {},
   "outputs": [
    {
     "data": {
      "image/png": "[encoded data removed]",
      "text/plain": [
       "<Figure size 640x480 with 1 Axes>"
      ]
     },
     "metadata": {},
     "output_type": "display_data"
    }
   ],
   "source": [
    "plt.plot(data.X2, np.exp(model_3.fittedvalues), color='purple', label='Функция спроса-потребления')\n",
    "plt.plot(data.X2, data.Y, color='red', label='Реальное потребление')\n",
    "plt.xlabel('стоимость одного фунта цыплят', fontsize=12)\n",
    "plt.ylabel('потребление цыплят', fontsize=12)\n",
    "plt.legend(fontsize=10)\n",
    "plt.grid(True)"
   ]
  },
  {
   "cell_type": "markdown",
   "metadata": {},
   "source": [
    "**Выводы:**\n",
    "\n",
    "- Сама регрессия, как и все коэффициенты в ней - значима.\n",
    "\n",
    "- При неизменной стоимости цыплят, при увеличении среднедушевого дохода на 1%, потребление цыплят увеличивается на 0.42%\n",
    "\n",
    "- При неизменном среднедушевом доходе, при увеличении стоимости цыплят на 1%, потребление цыплят уменьшается на 0.3%\n",
    "\n",
    "> Как только мы добавили в модель со стоимостью цыплят среднедушевой доход, коэффициент при стоимости цыплят стал ниже нуля. Это объясняется тем, что рост цены на цыплят в среднем сопровождается ростом среднедушевого дохода (присутствует положительная корреляция). Если этот среднедушевой доход не фиксировать, может получиться так, что при росте цен, среднедушевой доход увеличивается ещё сильнее, что приводит к увеличению потребления цыплят. Модель функции спроса, построенная ранее, говорит, что обычно так и происходит, так как коэффициент при стоимости цыплят в ней положительный.\n",
    "\n",
    "- Эта модель описывает 0.964% изменений дисперсии исходного признака, что говорит о том, что эта модель на данный момент является самой эффективной"
   ]
  },
  {
   "cell_type": "markdown",
   "metadata": {},
   "source": [
    "### *4. Функция спроса с учётом цены на товары-заменители:*\n",
    ">\n",
    "> > $ \\hat{Y} = b_0 * X_{2}^{b_2} * X_{3}^{b_3} * X_{4}^{b_4} $\n",
    ">\n",
    "> Прологарифмирую:\n",
    ">\n",
    "> > $ ln(\\hat{Y}) = ln(b_0) + b_2 * ln(X_2) + b_3 * ln(X_3) + b_4 * ln(X_4)$\n",
    ">\n",
    "> Замена:\n",
    ">\n",
    "> > - $ \\tilde{\\hat{Y}} = ln(\\hat{Y}) $\n",
    "> >\n",
    "> > - $ \\tilde{b_0} = ln(b_0) $ \n",
    "> >\n",
    "> > - $ \\tilde{X_2} = ln(X_2) $ \n",
    "> >\n",
    "> > - $ \\tilde{X_3} = ln(X_3) $ \n",
    "> >\n",
    "> > - $ \\tilde{X_4} = ln(X_4) $ \n",
    ">\n",
    "> Тогда линейный вид уравнения:\n",
    ">\n",
    "> > $ \\tilde{\\hat{Y}} = \\tilde{b_0} + b_2 * \\tilde{X_2} + b_3 * \\tilde{X_3} + b_4 * \\tilde{X_4} $ "
   ]
  },
  {
   "cell_type": "code",
   "execution_count": 1226,
   "metadata": {},
   "outputs": [
    {
     "name": "stdout",
     "output_type": "stream",
     "text": [
      "                 Results: Ordinary least squares\n",
      "==================================================================\n",
      "Model:              OLS              Adj. R-squared:     0.935    \n",
      "Dependent Variable: ln_Y             AIC:                -67.1206 \n",
      "Date:               2023-12-12 17:40 BIC:                -63.3429 \n",
      "No. Observations:   19               Log-Likelihood:     37.560   \n",
      "Df Model:           3                F-statistic:        87.74    \n",
      "Df Residuals:       15               Prob (F-statistic): 9.73e-10 \n",
      "R-squared:          0.946            Scale:              0.0014227\n",
      "-------------------------------------------------------------------\n",
      "                Coef.   Std.Err.     t     P>|t|    [0.025   0.975]\n",
      "-------------------------------------------------------------------\n",
      "Intercept       2.3152    0.2215  10.4501  0.0000   1.8430   2.7874\n",
      "ln_X2          -0.4875    0.2110  -2.3102  0.0355  -0.9372  -0.0377\n",
      "ln_X3           0.2374    0.1556   1.5256  0.1479  -0.0943   0.5691\n",
      "ln_X4           0.4601    0.0753   6.1120  0.0000   0.2996   0.6205\n",
      "------------------------------------------------------------------\n",
      "Omnibus:              2.117         Durbin-Watson:           1.235\n",
      "Prob(Omnibus):        0.347         Jarque-Bera (JB):        1.739\n",
      "Skew:                 -0.641        Prob(JB):                0.419\n",
      "Kurtosis:             2.255         Condition No.:           288  \n",
      "==================================================================\n",
      "\n"
     ]
    }
   ],
   "source": [
    "model_4 = smf.ols('ln_Y ~ ln_X2 + ln_X3 + ln_X4', data=ln_data).fit()\n",
    "\n",
    "print(model_4.summary2())"
   ]
  },
  {
   "cell_type": "code",
   "execution_count": 1227,
   "metadata": {},
   "outputs": [
    {
     "data": {
      "image/png": "[encoded data removed]",
      "text/plain": [
       "<Figure size 640x480 with 1 Axes>"
      ]
     },
     "metadata": {},
     "output_type": "display_data"
    }
   ],
   "source": [
    "plt.plot(data.X2, np.exp(model_4.fittedvalues), color='purple', label='Функция спроса с учетом цены на товары-заменители')\n",
    "plt.plot(data.X2, data.Y, color='red', label='Реальное потребление')\n",
    "plt.xlabel('стоимость одного фунта цыплят', fontsize=12)\n",
    "plt.ylabel('потребление цыплят', fontsize=12)\n",
    "plt.legend(fontsize=10)\n",
    "plt.grid(True)"
   ]
  },
  {
   "cell_type": "markdown",
   "metadata": {},
   "source": [
    "**Выводы:**\n",
    "\n",
    "- Модель в целом значима. Коэффициент при стоимости цыплят - значим на уровне значимости 5%, при стоимости свинины - не значим на уровне 5%, а коэффициент при стоимости говядины - значим на любом разумном уровне значимости\n",
    "\n",
    "- Мы видим, что потребление цыплят, при прочих неизменных условиях, с изменением стоимости одного фунта на 1%, уменьшается на 0.48%, когда при увеличении стоимости свинины и говядины на 1% - растёт на 0.23% и 0.46% соответственно при прочих равных\n",
    "\n",
    "> Также положительный коэффициент для функции спроса может объяснятся тем, что при повышении стоимости цыплят, цены на товары-заменители возрастают еще более значительно (присутствует сильная положительная корреляция). Это приводит к ситуации, когда с увеличением цен на цыплят их потребление не уменьшается, а, напротив, возрастает, так как они остаются относительно более дешевым выбором по сравнению с другими продуктами\n",
    "\n",
    "- Доля объяснённой дисперсии для этой модели равна 0.93, что говорит о том, что потребление зависит больше от среднедушевого дохода, чем от стоимости товаров-заменителей (при том, что их цена тоже важна), так как для модели функции спроса-потребления $R^2_{adj}$ был выше"
   ]
  },
  {
   "cell_type": "markdown",
   "metadata": {},
   "source": [
    "## **Тест Шапиро-Уилка:**"
   ]
  },
  {
   "cell_type": "markdown",
   "metadata": {},
   "source": [
    "$H_0$ - данные нормально распределены\n",
    "\n",
    "$H_1$ - данные распределены ненормально"
   ]
  },
  {
   "cell_type": "code",
   "execution_count": 1228,
   "metadata": {},
   "outputs": [
    {
     "name": "stdout",
     "output_type": "stream",
     "text": [
      "p-value for X1 is 0.04197002574801445\n",
      "p-value for X2 is 0.008054640144109726\n",
      "p-value for X3 is 0.04003702849149704\n",
      "p-value for X4 is 0.01952611841261387\n"
     ]
    }
   ],
   "source": [
    "for var in data.drop(columns=['Y']).columns:\n",
    "    print('p-value for', var, 'is', stats.shapiro(data[var])[1])"
   ]
  },
  {
   "cell_type": "markdown",
   "metadata": {},
   "source": [
    " На уровне значимости 5% ни одна из переменных не имеет нормального распределения "
   ]
  },
  {
   "cell_type": "markdown",
   "metadata": {},
   "source": [
    "## **Преобразование Бокса-Кокса:**"
   ]
  },
  {
   "cell_type": "code",
   "execution_count": 1229,
   "metadata": {},
   "outputs": [
    {
     "data": {
      "text/html": [
       "<div>\n",
       "<style scoped>\n",
       "    .dataframe tbody tr th:only-of-type {\n",
       "        vertical-align: middle;\n",
       "    }\n",
       "\n",
       "    .dataframe tbody tr th {\n",
       "        vertical-align: top;\n",
       "    }\n",
       "\n",
       "    .dataframe thead th {\n",
       "        text-align: right;\n",
       "    }\n",
       "</style>\n",
       "<table border=\"1\" class=\"dataframe\">\n",
       "  <thead>\n",
       "    <tr style=\"text-align: right;\">\n",
       "      <th></th>\n",
       "      <th>X1</th>\n",
       "      <th>X2</th>\n",
       "      <th>X3</th>\n",
       "      <th>X4</th>\n",
       "    </tr>\n",
       "  </thead>\n",
       "  <tbody>\n",
       "    <tr>\n",
       "      <th>0</th>\n",
       "      <td>2.795503</td>\n",
       "      <td>1.192043</td>\n",
       "      <td>2.523566</td>\n",
       "      <td>1.574717</td>\n",
       "    </tr>\n",
       "    <tr>\n",
       "      <th>1</th>\n",
       "      <td>2.806068</td>\n",
       "      <td>1.193245</td>\n",
       "      <td>2.578226</td>\n",
       "      <td>1.577477</td>\n",
       "    </tr>\n",
       "    <tr>\n",
       "      <th>2</th>\n",
       "      <td>2.814698</td>\n",
       "      <td>1.194966</td>\n",
       "      <td>2.610052</td>\n",
       "      <td>1.577668</td>\n",
       "    </tr>\n",
       "    <tr>\n",
       "      <th>3</th>\n",
       "      <td>2.830396</td>\n",
       "      <td>1.192800</td>\n",
       "      <td>2.590128</td>\n",
       "      <td>1.580898</td>\n",
       "    </tr>\n",
       "    <tr>\n",
       "      <th>4</th>\n",
       "      <td>2.839513</td>\n",
       "      <td>1.193684</td>\n",
       "      <td>2.582613</td>\n",
       "      <td>1.582304</td>\n",
       "    </tr>\n",
       "  </tbody>\n",
       "</table>\n",
       "</div>"
      ],
      "text/plain": [
       "         X1        X2        X3        X4\n",
       "0  2.795503  1.192043  2.523566  1.574717\n",
       "1  2.806068  1.193245  2.578226  1.577477\n",
       "2  2.814698  1.194966  2.610052  1.577668\n",
       "3  2.830396  1.192800  2.590128  1.580898\n",
       "4  2.839513  1.193684  2.582613  1.582304"
      ]
     },
     "execution_count": 1229,
     "metadata": {},
     "output_type": "execute_result"
    }
   ],
   "source": [
    "data_boxcox = pd.DataFrame()\n",
    "for var in data.drop(columns=['Y']).columns: \n",
    "    data_boxcox[var] = stats.boxcox(data[var])[0]\n",
    "\n",
    "data_boxcox.head()"
   ]
  },
  {
   "cell_type": "markdown",
   "metadata": {},
   "source": [
    "## **Критерий Манна-Уитни:**"
   ]
  },
  {
   "cell_type": "markdown",
   "metadata": {},
   "source": [
    "$H_0$ - выборки однородны\n",
    "\n",
    "$H_1$ - выборки неоднородны"
   ]
  },
  {
   "cell_type": "code",
   "execution_count": 1230,
   "metadata": {},
   "outputs": [
    {
     "data": {
      "text/plain": [
       "MannwhitneyuResult(statistic=0.0, pvalue=1.4798065133032065e-07)"
      ]
     },
     "execution_count": 1230,
     "metadata": {},
     "output_type": "execute_result"
    }
   ],
   "source": [
    "stats.mannwhitneyu(data_boxcox.X2, data_boxcox.X3)"
   ]
  },
  {
   "cell_type": "markdown",
   "metadata": {},
   "source": [
    "Видно, что на любом разумном уровне значимости гипотеза об однородности выборок отклоняется. \n",
    "\n",
    "Это говорит о том, что распределение стоимостей одного фунта свинины образуется по другим законам относительно распределения стоимости одного фунта говядины"
   ]
  },
  {
   "cell_type": "markdown",
   "metadata": {},
   "source": [
    "## **Критерий Флигнера-Клипера:**"
   ]
  },
  {
   "cell_type": "markdown",
   "metadata": {},
   "source": [
    "$H_0$ - дисперсии двух выборок гомогенны\n",
    "\n",
    "$H_1$ - дисперсии двух выборок отличны друг от друга"
   ]
  },
  {
   "cell_type": "code",
   "execution_count": 1231,
   "metadata": {},
   "outputs": [
    {
     "data": {
      "text/plain": [
       "FlignerResult(statistic=17.56785668435604, pvalue=2.7723506703585003e-05)"
      ]
     },
     "execution_count": 1231,
     "metadata": {},
     "output_type": "execute_result"
    }
   ],
   "source": [
    "stats.fligner(data_boxcox.X2, data_boxcox.X3)"
   ]
  },
  {
   "cell_type": "markdown",
   "metadata": {},
   "source": [
    "Различия в дисперсиях статистически значимы на любом разумном уровне значимости. Это говорит о том, что разброс стоимости одного фунта цыплят не равен разбросу стоимости одного фунта свинины"
   ]
  },
  {
   "cell_type": "markdown",
   "metadata": {},
   "source": [
    "Так как критерий Стьюдента требует гомогенности дисперсий, воспользуюсь его модификацией - тестом Уэлча, который не требует предположения о равенстве диперсий между сравниваемыми группами "
   ]
  },
  {
   "cell_type": "markdown",
   "metadata": {},
   "source": [
    "$H_0$ - средняя стоимость одного фунта цыплят РАВНА средней стоимости одного фунта свинины\n",
    "\n",
    "$H_1$ - средняя стоимость одного фунта цыплят НЕ РАВНА средней стоимости одного фунта свинины"
   ]
  },
  {
   "cell_type": "code",
   "execution_count": 1232,
   "metadata": {},
   "outputs": [
    {
     "data": {
      "text/plain": [
       "Ttest_indResult(statistic=-59.12265456715974, pvalue=2.1814249054774826e-22)"
      ]
     },
     "execution_count": 1232,
     "metadata": {},
     "output_type": "execute_result"
    }
   ],
   "source": [
    "stats.ttest_ind(data_boxcox.X2, data_boxcox.X3, equal_var=False)"
   ]
  },
  {
   "cell_type": "markdown",
   "metadata": {},
   "source": [
    "На любом разумном уровне значимости, гипотеза о равенстве средних двух групп отклоняется"
   ]
  },
  {
   "cell_type": "code",
   "execution_count": 1233,
   "metadata": {},
   "outputs": [
    {
     "name": "stdout",
     "output_type": "stream",
     "text": [
      "\n",
      "средняя стоимость одного фунта цыплят: 49.67368421052631, \n",
      "средняя стоимость одного фунта свинины: 98.27368421052631\n",
      "\n"
     ]
    }
   ],
   "source": [
    "print(f'''\n",
    "средняя стоимость одного фунта цыплят: {data.X2.mean()}, \n",
    "средняя стоимость одного фунта свинины: {data.X3.mean()}\n",
    "''')"
   ]
  },
  {
   "cell_type": "markdown",
   "metadata": {},
   "source": [
    "Разница между этими средними СТАТИСТИЧЕСКИ ЗНАЧИМА. Можно сказать, что фунт свинины в среднем дороже фунта цыплят"
   ]
  },
  {
   "cell_type": "markdown",
   "metadata": {},
   "source": [
    "# Задание 2\n",
    "---"
   ]
  },
  {
   "cell_type": "markdown",
   "metadata": {},
   "source": [
    "__`profitability`__ - прибыльность вложений в оборудование (%) \n",
    "\n",
    "__`staff`__ - среднее число сотрудников на один проект \n",
    "\n",
    "__`projects`__ - среднемесячное число проектов\n",
    "\n",
    "__`adverts`__ - доля расходов на рекламу и продвижение своего бренда (%)"
   ]
  },
  {
   "cell_type": "code",
   "execution_count": 1234,
   "metadata": {},
   "outputs": [
    {
     "data": {
      "text/html": [
       "<div>\n",
       "<style scoped>\n",
       "    .dataframe tbody tr th:only-of-type {\n",
       "        vertical-align: middle;\n",
       "    }\n",
       "\n",
       "    .dataframe tbody tr th {\n",
       "        vertical-align: top;\n",
       "    }\n",
       "\n",
       "    .dataframe thead th {\n",
       "        text-align: right;\n",
       "    }\n",
       "</style>\n",
       "<table border=\"1\" class=\"dataframe\">\n",
       "  <thead>\n",
       "    <tr style=\"text-align: right;\">\n",
       "      <th></th>\n",
       "      <th>staff</th>\n",
       "      <th>adverts</th>\n",
       "      <th>projects</th>\n",
       "      <th>profitability</th>\n",
       "    </tr>\n",
       "  </thead>\n",
       "  <tbody>\n",
       "    <tr>\n",
       "      <th>0</th>\n",
       "      <td>8.768088</td>\n",
       "      <td>24.515827</td>\n",
       "      <td>8.499298</td>\n",
       "      <td>142.095390</td>\n",
       "    </tr>\n",
       "    <tr>\n",
       "      <th>1</th>\n",
       "      <td>9.129025</td>\n",
       "      <td>27.002612</td>\n",
       "      <td>7.414980</td>\n",
       "      <td>123.296482</td>\n",
       "    </tr>\n",
       "    <tr>\n",
       "      <th>2</th>\n",
       "      <td>8.269365</td>\n",
       "      <td>25.496132</td>\n",
       "      <td>6.524985</td>\n",
       "      <td>110.811052</td>\n",
       "    </tr>\n",
       "    <tr>\n",
       "      <th>3</th>\n",
       "      <td>9.838063</td>\n",
       "      <td>18.273113</td>\n",
       "      <td>5.211359</td>\n",
       "      <td>90.649576</td>\n",
       "    </tr>\n",
       "    <tr>\n",
       "      <th>4</th>\n",
       "      <td>10.382268</td>\n",
       "      <td>11.992892</td>\n",
       "      <td>7.973063</td>\n",
       "      <td>84.343632</td>\n",
       "    </tr>\n",
       "  </tbody>\n",
       "</table>\n",
       "</div>"
      ],
      "text/plain": [
       "       staff    adverts  projects  profitability\n",
       "0   8.768088  24.515827  8.499298     142.095390\n",
       "1   9.129025  27.002612  7.414980     123.296482\n",
       "2   8.269365  25.496132  6.524985     110.811052\n",
       "3   9.838063  18.273113  5.211359      90.649576\n",
       "4  10.382268  11.992892  7.973063      84.343632"
      ]
     },
     "execution_count": 1234,
     "metadata": {},
     "output_type": "execute_result"
    }
   ],
   "source": [
    "data = pd.read_excel('задание2.xlsx')\n",
    "\n",
    "data.head()"
   ]
  },
  {
   "cell_type": "code",
   "execution_count": 1235,
   "metadata": {},
   "outputs": [],
   "source": [
    "X, y = data.drop(columns=['profitability']), data.profitability"
   ]
  },
  {
   "cell_type": "code",
   "execution_count": 1236,
   "metadata": {},
   "outputs": [],
   "source": [
    "def check_polynomial(X, y):\n",
    "    \"\"\"\n",
    "    Функция для оценки полиномиальных регрессионных моделей различных степеней.\n",
    "\n",
    "    Аргументы:\n",
    "    X - DataFrame или массив независимых переменных.\n",
    "    y - Серия или массив зависимой переменной.\n",
    "\n",
    "    Возвращает:\n",
    "    DataFrame с столбцами 'Степень полинома', 'r2', 'r2_adj', 'cross_val_rmse',\n",
    "    содержащий результаты оценки для каждой степени полинома.\n",
    "    \"\"\"\n",
    "    \n",
    "    degree = []\n",
    "    r2_list = []\n",
    "    r2_adj_list = []\n",
    "    cross_val_rmse_list = []\n",
    "\n",
    "    i = 1\n",
    "    while True:\n",
    "        \n",
    "        X_poly = PolynomialFeatures(degree=i, include_bias=False).fit_transform(X)\n",
    "\n",
    "        n = X_poly.shape[0]\n",
    "        k = X_poly.shape[1]\n",
    "\n",
    "        model = LinearRegression().fit(X_poly, y)\n",
    "        \n",
    "        r2 = model.score(X_poly, y)\n",
    "        r2_adj = 1 - (1 - r2) * (n - 1) / (n - k)\n",
    "        cross_val_mse = -cross_val_score(model, X_poly, y, cv=5, scoring='neg_mean_squared_error').mean()\n",
    "\n",
    "        degree.append(i)\n",
    "        r2_list.append(r2)\n",
    "        r2_adj_list.append(r2_adj)\n",
    "        cross_val_rmse_list.append(np.sqrt(cross_val_mse))\n",
    "\n",
    "        if k > n:\n",
    "            break\n",
    "\n",
    "        i += 1\n",
    "    \n",
    "    result = pd.DataFrame(\n",
    "        {\n",
    "            'Степень полинома': degree,\n",
    "            'r2': r2_list,\n",
    "            'r2_adj': r2_adj_list,\n",
    "            'cross_val_rmse': cross_val_rmse_list\n",
    "        }\n",
    "    )\n",
    "\n",
    "    return result"
   ]
  },
  {
   "cell_type": "code",
   "execution_count": 1237,
   "metadata": {},
   "outputs": [
    {
     "data": {
      "image/png": "[encoded data removed]",
      "text/plain": [
       "<Figure size 640x480 with 1 Axes>"
      ]
     },
     "metadata": {},
     "output_type": "display_data"
    }
   ],
   "source": [
    "cp = check_polynomial(X, y)\n",
    "\n",
    "sns.lineplot(x=cp['Степень полинома'], y=cp['r2'], label='r2')\n",
    "sns.lineplot(x=cp['Степень полинома'], y=cp['r2_adj'], label='r2_adj')\n",
    "plt.xticks(cp['Степень полинома'])\n",
    "plt.grid()\n",
    "\n",
    "plt.show()"
   ]
  },
  {
   "cell_type": "code",
   "execution_count": 1238,
   "metadata": {},
   "outputs": [
    {
     "data": {
      "text/plain": [
       "(50, 55)"
      ]
     },
     "execution_count": 1238,
     "metadata": {},
     "output_type": "execute_result"
    }
   ],
   "source": [
    "# Выведу размерность данных при добавлении полиномиальных признаков в 5той степени\n",
    "PolynomialFeatures(degree=5, include_bias=False).fit_transform(X).shape"
   ]
  },
  {
   "cell_type": "markdown",
   "metadata": {},
   "source": [
    "- Видим, что с увеличением степени полинома, стабильно увеличивается r^2, доходя до максимального значения в 1 на полиноме 5той степени. \n",
    "- Следует понимать, что при степени полинома равной 5, присутствует так называемая строгая мультиколлинеарность, так как ранг матрицы регрессоров меньше числа регрессоров. Эта модель в любом случае не будет адекватной \n",
    "- Исправленный r^2 принимает своё наивысшее значениее при степени полинома равной 3. При 4 степени появляются регрессоры, t-статистика коэффициентов (при проверке гипотезы на значимость) которых по модулю меньше 1 (при добавлении ко модели коэффициента, t-статистика которого по модулю меньше 1 приводит к уменьшению исправленного коэффициента детерминации). Это говорит о том, что в модели появляется больше незначимых признаков, чем значимых.\n",
    "- В таком случае, самой рациональной моделью (игнорируя возможность переобучения) является модель с полиномом 3 степени"
   ]
  },
  {
   "cell_type": "code",
   "execution_count": 1239,
   "metadata": {},
   "outputs": [
    {
     "data": {
      "text/html": [
       "<div>\n",
       "<style scoped>\n",
       "    .dataframe tbody tr th:only-of-type {\n",
       "        vertical-align: middle;\n",
       "    }\n",
       "\n",
       "    .dataframe tbody tr th {\n",
       "        vertical-align: top;\n",
       "    }\n",
       "\n",
       "    .dataframe thead th {\n",
       "        text-align: right;\n",
       "    }\n",
       "</style>\n",
       "<table border=\"1\" class=\"dataframe\">\n",
       "  <thead>\n",
       "    <tr style=\"text-align: right;\">\n",
       "      <th></th>\n",
       "      <th>cross_val_rmse</th>\n",
       "    </tr>\n",
       "    <tr>\n",
       "      <th>Степень полинома</th>\n",
       "      <th></th>\n",
       "    </tr>\n",
       "  </thead>\n",
       "  <tbody>\n",
       "    <tr>\n",
       "      <th>1</th>\n",
       "      <td>8.672230</td>\n",
       "    </tr>\n",
       "    <tr>\n",
       "      <th>2</th>\n",
       "      <td>8.051460</td>\n",
       "    </tr>\n",
       "    <tr>\n",
       "      <th>3</th>\n",
       "      <td>9.549975</td>\n",
       "    </tr>\n",
       "    <tr>\n",
       "      <th>4</th>\n",
       "      <td>86.086651</td>\n",
       "    </tr>\n",
       "    <tr>\n",
       "      <th>5</th>\n",
       "      <td>745.866638</td>\n",
       "    </tr>\n",
       "  </tbody>\n",
       "</table>\n",
       "</div>"
      ],
      "text/plain": [
       "                  cross_val_rmse\n",
       "Степень полинома                \n",
       "1                       8.672230\n",
       "2                       8.051460\n",
       "3                       9.549975\n",
       "4                      86.086651\n",
       "5                     745.866638"
      ]
     },
     "execution_count": 1239,
     "metadata": {},
     "output_type": "execute_result"
    }
   ],
   "source": [
    "cp[['Степень полинома', 'cross_val_rmse']].set_index('Степень полинома')"
   ]
  },
  {
   "cell_type": "markdown",
   "metadata": {},
   "source": [
    "Чтобы оценить модель с учётом переобучения, с помощью кросс-валидации были получены метрики RMSE для моделей с разными степенями полиномов. \n",
    "\n",
    "- При добавлении полиномиальных признаков второй степени, модель показывает результаты лучше, чем базовая модель (ошибка в среднем меньше на 0.6% прибыльности вложений в оборудование).\n",
    "\n",
    "- Начиная со степени полинома равной трём, модель показывает результат всё хуже и хуже. Модель переобучается и на валидационных выборках показывает очень плохой результат (при строгой мультиколлинеарности модель ошибается на 745% прибыльности от вложений в оборудование). "
   ]
  },
  {
   "cell_type": "markdown",
   "metadata": {},
   "source": [
    "Нужно ли вообще менять спецификацию модели? Проведу RESET тест Рамсея"
   ]
  },
  {
   "cell_type": "code",
   "execution_count": 1240,
   "metadata": {},
   "outputs": [
    {
     "data": {
      "image/png": "[encoded data removed]",
      "text/plain": [
       "<Figure size 640x480 with 1 Axes>"
      ]
     },
     "metadata": {},
     "output_type": "display_data"
    }
   ],
   "source": [
    "model = smf.ols('profitability ~ staff + adverts + projects', data=data).fit()\n",
    "\n",
    "p_values = []\n",
    "for i in range(2, 6):\n",
    "    p_values.append(linear_reset(model, use_f=True, power=i).pvalue)\n",
    "\n",
    "plt.plot(range(2, 6), p_values)\n",
    "plt.xlabel('степень полинома')\n",
    "plt.xticks(range(2, 6))\n",
    "plt.ylabel('p-value')\n",
    "plt.grid()\n",
    "plt.show()"
   ]
  },
  {
   "cell_type": "markdown",
   "metadata": {},
   "source": [
    "Для всех доступных степеней полиномов, результаты теста говорят о том, что значимой информации в них нет (недостаточно оснований отклонить нулевую гипотезу). "
   ]
  },
  {
   "cell_type": "code",
   "execution_count": 1241,
   "metadata": {},
   "outputs": [
    {
     "name": "stdout",
     "output_type": "stream",
     "text": [
      "                  Results: Ordinary least squares\n",
      "===================================================================\n",
      "Model:                OLS              Adj. R-squared:     0.893   \n",
      "Dependent Variable:   profitability    AIC:                318.4105\n",
      "Date:                 2023-12-12 17:40 BIC:                337.5307\n",
      "No. Observations:     50               Log-Likelihood:     -149.21 \n",
      "Df Model:             9                F-statistic:        46.35   \n",
      "Df Residuals:         40               Prob (F-statistic): 2.27e-18\n",
      "R-squared:            0.913            Scale:              28.602  \n",
      "-------------------------------------------------------------------\n",
      "                  Coef.   Std.Err.    t    P>|t|    [0.025   0.975]\n",
      "-------------------------------------------------------------------\n",
      "const            -99.1932  51.0638 -1.9425 0.0591 -202.3969  4.0105\n",
      "staff             32.9042   6.9810  4.7134 0.0000   18.7952 47.0133\n",
      "adverts            7.8510   2.6863  2.9226 0.0057    2.4218 13.2802\n",
      "projects         -16.2264   6.8100 -2.3827 0.0220  -29.9899 -2.4628\n",
      "staff^2           -2.2172   0.3470 -6.3893 0.0000   -2.9185 -1.5158\n",
      "staff adverts      0.0378   0.1964  0.1925 0.8483   -0.3592  0.4348\n",
      "staff projects     0.4378   0.4469  0.9797 0.3331   -0.4653  1.3410\n",
      "adverts^2         -0.1601   0.0361 -4.4355 0.0001   -0.2330 -0.0871\n",
      "adverts projects   0.0654   0.1311  0.4990 0.6205   -0.1995  0.3303\n",
      "projects^2         1.4988   0.3710  4.0396 0.0002    0.7489  2.2487\n",
      "-------------------------------------------------------------------\n",
      "Omnibus:                0.088        Durbin-Watson:           2.198\n",
      "Prob(Omnibus):          0.957        Jarque-Bera (JB):        0.291\n",
      "Skew:                   0.018        Prob(JB):                0.865\n",
      "Kurtosis:               2.628        Condition No.:           41074\n",
      "===================================================================\n",
      "* The condition number is large (4e+04). This might indicate\n",
      "strong multicollinearity or other numerical problems.\n"
     ]
    }
   ],
   "source": [
    "get_poly = PolynomialFeatures(degree=2, include_bias=False)\n",
    "\n",
    "X_poly_2 = pd.DataFrame(\n",
    "    get_poly.fit_transform(X),\n",
    "    columns=get_poly.get_feature_names_out()\n",
    ")\n",
    "model = sm.OLS(y, sm.add_constant(X_poly_2)).fit()\n",
    "\n",
    "print(model.summary2())"
   ]
  },
  {
   "cell_type": "markdown",
   "metadata": {},
   "source": [
    "**Выводы:**\n",
    "\n",
    "- Если мы берём за основу тест Рамсея и задача исследования состоит в основном в изучении предельных эффектов, правильнее будет не добавлять полиномиальные признаки вообще, так как они не несут значимой информации (исходя из теста Рамсея). \n",
    "\n",
    "- Если мы выбираем степень полинома через кросс-валидацию, то лучшим вариантом будет взять две степени, так как ошибка на валидационных выборках получилась минимальной именно с полиномом 2 степени.\n",
    "\n",
    "- Анализируя результаты такой модели можно сделать выводы:\n",
    "> - На уровне значимости 5% незначимыми коэффициентами являются коэффициенты МНК произведения регрессоров между собой. При этом коэффициенты квадратов регрессоров все получились значимо отличны от 0.  \n",
    "> - Коэффициенты квадратов регрессоров могут объяснить различные эффекты от масштаба. К примеру, при увеличении \"числа сотрудников на один проект\" прибыльность увеличивается, но скорость увеличения прибыльности уменьшается, так как если в проекте слишком много сотрудников, их совокупная эффективность увеличивается всё медленее, а издержек на их содержание больше. Сотрудников может быть настолько много, что стоимость их содержания будет выше, нежели польза от их работы. Этот эффект и описывает отрицательный коэффициент для staff^2. Связь целевой переменной с projects скорее всего тоже нелинейна. Это связанно с тем, что с уменьшением числа проектов уменьшается прибыльность вложений в оборудование, но если проект был всего 1 или 2, то и издержек на их проведение было мало, что позволило получить всё ещё убыток от вложений в оборудование, но менее значительный"
   ]
  },
  {
   "cell_type": "markdown",
   "metadata": {},
   "source": [
    "# Задание 3\n",
    "---"
   ]
  },
  {
   "cell_type": "code",
   "execution_count": 1242,
   "metadata": {},
   "outputs": [
    {
     "data": {
      "text/html": [
       "<div>\n",
       "<style scoped>\n",
       "    .dataframe tbody tr th:only-of-type {\n",
       "        vertical-align: middle;\n",
       "    }\n",
       "\n",
       "    .dataframe tbody tr th {\n",
       "        vertical-align: top;\n",
       "    }\n",
       "\n",
       "    .dataframe thead th {\n",
       "        text-align: right;\n",
       "    }\n",
       "</style>\n",
       "<table border=\"1\" class=\"dataframe\">\n",
       "  <thead>\n",
       "    <tr style=\"text-align: right;\">\n",
       "      <th></th>\n",
       "      <th>x1</th>\n",
       "      <th>x2</th>\n",
       "      <th>x3</th>\n",
       "      <th>x4</th>\n",
       "      <th>x5</th>\n",
       "      <th>x6</th>\n",
       "      <th>x7</th>\n",
       "      <th>x8</th>\n",
       "      <th>x9</th>\n",
       "      <th>x10</th>\n",
       "      <th>x11</th>\n",
       "      <th>x12</th>\n",
       "      <th>x13</th>\n",
       "      <th>x14</th>\n",
       "    </tr>\n",
       "    <tr>\n",
       "      <th>id</th>\n",
       "      <th></th>\n",
       "      <th></th>\n",
       "      <th></th>\n",
       "      <th></th>\n",
       "      <th></th>\n",
       "      <th></th>\n",
       "      <th></th>\n",
       "      <th></th>\n",
       "      <th></th>\n",
       "      <th></th>\n",
       "      <th></th>\n",
       "      <th></th>\n",
       "      <th></th>\n",
       "      <th></th>\n",
       "    </tr>\n",
       "  </thead>\n",
       "  <tbody>\n",
       "    <tr>\n",
       "      <th>96</th>\n",
       "      <td>0</td>\n",
       "      <td>60.96</td>\n",
       "      <td>2.68</td>\n",
       "      <td>186.81</td>\n",
       "      <td>0.67</td>\n",
       "      <td>4.02</td>\n",
       "      <td>45.11</td>\n",
       "      <td>5.93</td>\n",
       "      <td>0.67</td>\n",
       "      <td>705.98</td>\n",
       "      <td>0</td>\n",
       "      <td>42.02</td>\n",
       "      <td>2.68</td>\n",
       "      <td>100.00</td>\n",
       "    </tr>\n",
       "    <tr>\n",
       "      <th>97</th>\n",
       "      <td>0</td>\n",
       "      <td>55.02</td>\n",
       "      <td>7.42</td>\n",
       "      <td>11.34</td>\n",
       "      <td>2.18</td>\n",
       "      <td>4.36</td>\n",
       "      <td>89.58</td>\n",
       "      <td>3.29</td>\n",
       "      <td>1.31</td>\n",
       "      <td>568.75</td>\n",
       "      <td>2</td>\n",
       "      <td>29.96</td>\n",
       "      <td>4.72</td>\n",
       "      <td>100.00</td>\n",
       "    </tr>\n",
       "    <tr>\n",
       "      <th>99</th>\n",
       "      <td>0</td>\n",
       "      <td>69.08</td>\n",
       "      <td>51.50</td>\n",
       "      <td>56.98</td>\n",
       "      <td>23.53</td>\n",
       "      <td>28.41</td>\n",
       "      <td>129.33</td>\n",
       "      <td>16.78</td>\n",
       "      <td>9.92</td>\n",
       "      <td>806.07</td>\n",
       "      <td>18</td>\n",
       "      <td>29.21</td>\n",
       "      <td>11.24</td>\n",
       "      <td>41.70</td>\n",
       "    </tr>\n",
       "    <tr>\n",
       "      <th>101</th>\n",
       "      <td>0</td>\n",
       "      <td>53.54</td>\n",
       "      <td>64.43</td>\n",
       "      <td>59.06</td>\n",
       "      <td>1.34</td>\n",
       "      <td>2.68</td>\n",
       "      <td>86.71</td>\n",
       "      <td>9.09</td>\n",
       "      <td>2.68</td>\n",
       "      <td>675.82</td>\n",
       "      <td>0</td>\n",
       "      <td>21.33</td>\n",
       "      <td>8.51</td>\n",
       "      <td>32.17</td>\n",
       "    </tr>\n",
       "    <tr>\n",
       "      <th>103</th>\n",
       "      <td>0</td>\n",
       "      <td>61.61</td>\n",
       "      <td>56.86</td>\n",
       "      <td>96.73</td>\n",
       "      <td>19.57</td>\n",
       "      <td>20.31</td>\n",
       "      <td>88.33</td>\n",
       "      <td>13.87</td>\n",
       "      <td>1.85</td>\n",
       "      <td>705.08</td>\n",
       "      <td>6</td>\n",
       "      <td>18.79</td>\n",
       "      <td>3.14</td>\n",
       "      <td>74.96</td>\n",
       "    </tr>\n",
       "  </tbody>\n",
       "</table>\n",
       "</div>"
      ],
      "text/plain": [
       "     x1     x2     x3      x4     x5     x6      x7     x8    x9     x10  x11  \\\n",
       "id                                                                              \n",
       "96    0  60.96   2.68  186.81   0.67   4.02   45.11   5.93  0.67  705.98    0   \n",
       "97    0  55.02   7.42   11.34   2.18   4.36   89.58   3.29  1.31  568.75    2   \n",
       "99    0  69.08  51.50   56.98  23.53  28.41  129.33  16.78  9.92  806.07   18   \n",
       "101   0  53.54  64.43   59.06   1.34   2.68   86.71   9.09  2.68  675.82    0   \n",
       "103   0  61.61  56.86   96.73  19.57  20.31   88.33  13.87  1.85  705.08    6   \n",
       "\n",
       "       x12    x13     x14  \n",
       "id                         \n",
       "96   42.02   2.68  100.00  \n",
       "97   29.96   4.72  100.00  \n",
       "99   29.21  11.24   41.70  \n",
       "101  21.33   8.51   32.17  \n",
       "103  18.79   3.14   74.96  "
      ]
     },
     "execution_count": 1242,
     "metadata": {},
     "output_type": "execute_result"
    }
   ],
   "source": [
    "data = pd.read_excel('задание3.xlsx', header=2, index_col=0)\n",
    "\n",
    "data.head()"
   ]
  },
  {
   "cell_type": "markdown",
   "metadata": {},
   "source": [
    "**Стандартизирую данные:**"
   ]
  },
  {
   "cell_type": "code",
   "execution_count": 1243,
   "metadata": {},
   "outputs": [],
   "source": [
    "data_scaled = StandardScaler().fit_transform(data)"
   ]
  },
  {
   "cell_type": "markdown",
   "metadata": {},
   "source": [
    "**Найду число компонент, описывающее 75% изменения дисперсии:**"
   ]
  },
  {
   "cell_type": "code",
   "execution_count": 1244,
   "metadata": {},
   "outputs": [
    {
     "name": "stdout",
     "output_type": "stream",
     "text": [
      "Число компонент, описывающее 75% изменения дисперсии = 5\n"
     ]
    }
   ],
   "source": [
    "pca = PCA().fit(data_scaled)\n",
    "\n",
    "explained_variance = pca.explained_variance_ratio_\n",
    "\n",
    "explained_variance = np.insert(explained_variance, 0, 0)\n",
    "\n",
    "opt_n_components = np.argmax((np.cumsum(explained_variance) > 0.75))\n",
    "\n",
    "print(f'Число компонент, описывающее 75% изменения дисперсии = {opt_n_components}')"
   ]
  },
  {
   "cell_type": "markdown",
   "metadata": {},
   "source": [
    "**Продемонстрирую это на графике:**"
   ]
  },
  {
   "cell_type": "code",
   "execution_count": 1245,
   "metadata": {},
   "outputs": [
    {
     "data": {
      "image/png": "[encoded data removed]",
      "text/plain": [
       "<Figure size 1100x600 with 1 Axes>"
      ]
     },
     "metadata": {},
     "output_type": "display_data"
    }
   ],
   "source": [
    "plt.figure(figsize=(11, 6))\n",
    "plt.plot(np.cumsum(explained_variance))\n",
    "plt.xlabel('Number of Components')\n",
    "plt.ylabel('Cumulative Explained Variance')\n",
    "plt.grid(True)\n",
    "plt.xticks(range(len(explained_variance)))\n",
    "plt.yticks(np.cumsum(explained_variance)[:10])\n",
    "plt.axvline(opt_n_components, c='red', label='Оптимальное количество главных компонент')\n",
    "plt.axhline(0.75, c='green')\n",
    "plt.ylim(0, 1)\n",
    "plt.xlim(0, len(explained_variance)-1)\n",
    "plt.show()"
   ]
  },
  {
   "cell_type": "markdown",
   "metadata": {},
   "source": [
    "**Получу каждую линейную комбинацию регрессоров, составляющую каждую главную компоненту соответственно:**"
   ]
  },
  {
   "cell_type": "code",
   "execution_count": 1246,
   "metadata": {},
   "outputs": [
    {
     "data": {
      "text/html": [
       "<div>\n",
       "<style scoped>\n",
       "    .dataframe tbody tr th:only-of-type {\n",
       "        vertical-align: middle;\n",
       "    }\n",
       "\n",
       "    .dataframe tbody tr th {\n",
       "        vertical-align: top;\n",
       "    }\n",
       "\n",
       "    .dataframe thead th {\n",
       "        text-align: right;\n",
       "    }\n",
       "</style>\n",
       "<table border=\"1\" class=\"dataframe\">\n",
       "  <thead>\n",
       "    <tr style=\"text-align: right;\">\n",
       "      <th></th>\n",
       "      <th>pca0</th>\n",
       "      <th>pca1</th>\n",
       "      <th>pca2</th>\n",
       "      <th>pca3</th>\n",
       "      <th>pca4</th>\n",
       "    </tr>\n",
       "  </thead>\n",
       "  <tbody>\n",
       "    <tr>\n",
       "      <th>x1</th>\n",
       "      <td>0.286077</td>\n",
       "      <td>-0.024815</td>\n",
       "      <td>0.006826</td>\n",
       "      <td>-0.394031</td>\n",
       "      <td>-0.281518</td>\n",
       "    </tr>\n",
       "    <tr>\n",
       "      <th>x2</th>\n",
       "      <td>0.130998</td>\n",
       "      <td>-0.286017</td>\n",
       "      <td>-0.552065</td>\n",
       "      <td>0.089233</td>\n",
       "      <td>-0.258878</td>\n",
       "    </tr>\n",
       "    <tr>\n",
       "      <th>x3</th>\n",
       "      <td>0.341195</td>\n",
       "      <td>0.220335</td>\n",
       "      <td>-0.067550</td>\n",
       "      <td>0.257806</td>\n",
       "      <td>0.314041</td>\n",
       "    </tr>\n",
       "    <tr>\n",
       "      <th>x4</th>\n",
       "      <td>0.328794</td>\n",
       "      <td>0.207432</td>\n",
       "      <td>-0.083680</td>\n",
       "      <td>0.195291</td>\n",
       "      <td>0.339940</td>\n",
       "    </tr>\n",
       "    <tr>\n",
       "      <th>x5</th>\n",
       "      <td>0.377938</td>\n",
       "      <td>0.109494</td>\n",
       "      <td>-0.071680</td>\n",
       "      <td>0.065173</td>\n",
       "      <td>0.059975</td>\n",
       "    </tr>\n",
       "    <tr>\n",
       "      <th>x6</th>\n",
       "      <td>0.384608</td>\n",
       "      <td>0.084955</td>\n",
       "      <td>-0.037909</td>\n",
       "      <td>0.002735</td>\n",
       "      <td>0.071934</td>\n",
       "    </tr>\n",
       "    <tr>\n",
       "      <th>x7</th>\n",
       "      <td>0.321761</td>\n",
       "      <td>-0.136513</td>\n",
       "      <td>0.193202</td>\n",
       "      <td>-0.383670</td>\n",
       "      <td>0.111599</td>\n",
       "    </tr>\n",
       "    <tr>\n",
       "      <th>x8</th>\n",
       "      <td>0.202066</td>\n",
       "      <td>-0.160758</td>\n",
       "      <td>0.355389</td>\n",
       "      <td>0.073756</td>\n",
       "      <td>-0.512340</td>\n",
       "    </tr>\n",
       "    <tr>\n",
       "      <th>x9</th>\n",
       "      <td>0.155014</td>\n",
       "      <td>0.161343</td>\n",
       "      <td>0.346103</td>\n",
       "      <td>0.514355</td>\n",
       "      <td>-0.402571</td>\n",
       "    </tr>\n",
       "    <tr>\n",
       "      <th>x10</th>\n",
       "      <td>0.182643</td>\n",
       "      <td>-0.498700</td>\n",
       "      <td>-0.209975</td>\n",
       "      <td>0.023377</td>\n",
       "      <td>0.092271</td>\n",
       "    </tr>\n",
       "    <tr>\n",
       "      <th>x11</th>\n",
       "      <td>0.280627</td>\n",
       "      <td>0.092188</td>\n",
       "      <td>-0.186320</td>\n",
       "      <td>0.188699</td>\n",
       "      <td>-0.183204</td>\n",
       "    </tr>\n",
       "    <tr>\n",
       "      <th>x12</th>\n",
       "      <td>0.098931</td>\n",
       "      <td>-0.594256</td>\n",
       "      <td>-0.012687</td>\n",
       "      <td>0.251930</td>\n",
       "      <td>0.061234</td>\n",
       "    </tr>\n",
       "    <tr>\n",
       "      <th>x13</th>\n",
       "      <td>0.307728</td>\n",
       "      <td>0.039309</td>\n",
       "      <td>0.170181</td>\n",
       "      <td>-0.435781</td>\n",
       "      <td>-0.021750</td>\n",
       "    </tr>\n",
       "    <tr>\n",
       "      <th>x14</th>\n",
       "      <td>0.027116</td>\n",
       "      <td>-0.352705</td>\n",
       "      <td>0.534504</td>\n",
       "      <td>0.145561</td>\n",
       "      <td>0.384015</td>\n",
       "    </tr>\n",
       "  </tbody>\n",
       "</table>\n",
       "</div>"
      ],
      "text/plain": [
       "         pca0      pca1      pca2      pca3      pca4\n",
       "x1   0.286077 -0.024815  0.006826 -0.394031 -0.281518\n",
       "x2   0.130998 -0.286017 -0.552065  0.089233 -0.258878\n",
       "x3   0.341195  0.220335 -0.067550  0.257806  0.314041\n",
       "x4   0.328794  0.207432 -0.083680  0.195291  0.339940\n",
       "x5   0.377938  0.109494 -0.071680  0.065173  0.059975\n",
       "x6   0.384608  0.084955 -0.037909  0.002735  0.071934\n",
       "x7   0.321761 -0.136513  0.193202 -0.383670  0.111599\n",
       "x8   0.202066 -0.160758  0.355389  0.073756 -0.512340\n",
       "x9   0.155014  0.161343  0.346103  0.514355 -0.402571\n",
       "x10  0.182643 -0.498700 -0.209975  0.023377  0.092271\n",
       "x11  0.280627  0.092188 -0.186320  0.188699 -0.183204\n",
       "x12  0.098931 -0.594256 -0.012687  0.251930  0.061234\n",
       "x13  0.307728  0.039309  0.170181 -0.435781 -0.021750\n",
       "x14  0.027116 -0.352705  0.534504  0.145561  0.384015"
      ]
     },
     "execution_count": 1246,
     "metadata": {},
     "output_type": "execute_result"
    }
   ],
   "source": [
    "pca = PCA(n_components=opt_n_components).fit(data_scaled)\n",
    "\n",
    "pca_wheights = pd.DataFrame(\n",
    "    pca.components_, \n",
    "    index=pca.get_feature_names_out(), \n",
    "    columns=data.columns\n",
    ")\n",
    "\n",
    "pca_wheights.T"
   ]
  },
  {
   "cell_type": "markdown",
   "metadata": {},
   "source": [
    "# Задание 4\n",
    "---"
   ]
  },
  {
   "cell_type": "code",
   "execution_count": 1247,
   "metadata": {},
   "outputs": [
    {
     "data": {
      "text/html": [
       "<div>\n",
       "<style scoped>\n",
       "    .dataframe tbody tr th:only-of-type {\n",
       "        vertical-align: middle;\n",
       "    }\n",
       "\n",
       "    .dataframe tbody tr th {\n",
       "        vertical-align: top;\n",
       "    }\n",
       "\n",
       "    .dataframe thead th {\n",
       "        text-align: right;\n",
       "    }\n",
       "</style>\n",
       "<table border=\"1\" class=\"dataframe\">\n",
       "  <thead>\n",
       "    <tr style=\"text-align: right;\">\n",
       "      <th></th>\n",
       "      <th>target</th>\n",
       "      <th>age</th>\n",
       "      <th>educ</th>\n",
       "      <th>work_exp</th>\n",
       "      <th>interest</th>\n",
       "      <th>coffee</th>\n",
       "      <th>boss_educ</th>\n",
       "      <th>passport</th>\n",
       "      <th>green</th>\n",
       "      <th>floor</th>\n",
       "      <th>children</th>\n",
       "      <th>climate</th>\n",
       "      <th>offhour</th>\n",
       "      <th>dist</th>\n",
       "      <th>salary</th>\n",
       "      <th>heigh</th>\n",
       "      <th>lunch</th>\n",
       "    </tr>\n",
       "  </thead>\n",
       "  <tbody>\n",
       "    <tr>\n",
       "      <th>0</th>\n",
       "      <td>0</td>\n",
       "      <td>50</td>\n",
       "      <td>4</td>\n",
       "      <td>27</td>\n",
       "      <td>8</td>\n",
       "      <td>1.3</td>\n",
       "      <td>1</td>\n",
       "      <td>0</td>\n",
       "      <td>2</td>\n",
       "      <td>3</td>\n",
       "      <td>2</td>\n",
       "      <td>0</td>\n",
       "      <td>0</td>\n",
       "      <td>10.6</td>\n",
       "      <td>1</td>\n",
       "      <td>176</td>\n",
       "      <td>226</td>\n",
       "    </tr>\n",
       "    <tr>\n",
       "      <th>1</th>\n",
       "      <td>0</td>\n",
       "      <td>30</td>\n",
       "      <td>3</td>\n",
       "      <td>10</td>\n",
       "      <td>0</td>\n",
       "      <td>0.0</td>\n",
       "      <td>6</td>\n",
       "      <td>1</td>\n",
       "      <td>2</td>\n",
       "      <td>3</td>\n",
       "      <td>0</td>\n",
       "      <td>0</td>\n",
       "      <td>0</td>\n",
       "      <td>11.5</td>\n",
       "      <td>0</td>\n",
       "      <td>186</td>\n",
       "      <td>226</td>\n",
       "    </tr>\n",
       "    <tr>\n",
       "      <th>2</th>\n",
       "      <td>0</td>\n",
       "      <td>43</td>\n",
       "      <td>3</td>\n",
       "      <td>22</td>\n",
       "      <td>7</td>\n",
       "      <td>1.9</td>\n",
       "      <td>6</td>\n",
       "      <td>1</td>\n",
       "      <td>1</td>\n",
       "      <td>5</td>\n",
       "      <td>0</td>\n",
       "      <td>3</td>\n",
       "      <td>0</td>\n",
       "      <td>12.8</td>\n",
       "      <td>1</td>\n",
       "      <td>166</td>\n",
       "      <td>238</td>\n",
       "    </tr>\n",
       "    <tr>\n",
       "      <th>3</th>\n",
       "      <td>0</td>\n",
       "      <td>58</td>\n",
       "      <td>3</td>\n",
       "      <td>31</td>\n",
       "      <td>7</td>\n",
       "      <td>2.0</td>\n",
       "      <td>4</td>\n",
       "      <td>0</td>\n",
       "      <td>3</td>\n",
       "      <td>3</td>\n",
       "      <td>1</td>\n",
       "      <td>1</td>\n",
       "      <td>0</td>\n",
       "      <td>15.2</td>\n",
       "      <td>1</td>\n",
       "      <td>180</td>\n",
       "      <td>216</td>\n",
       "    </tr>\n",
       "    <tr>\n",
       "      <th>4</th>\n",
       "      <td>1</td>\n",
       "      <td>40</td>\n",
       "      <td>3</td>\n",
       "      <td>23</td>\n",
       "      <td>7</td>\n",
       "      <td>0.0</td>\n",
       "      <td>6</td>\n",
       "      <td>1</td>\n",
       "      <td>3</td>\n",
       "      <td>2</td>\n",
       "      <td>0</td>\n",
       "      <td>0</td>\n",
       "      <td>0</td>\n",
       "      <td>16.1</td>\n",
       "      <td>1</td>\n",
       "      <td>180</td>\n",
       "      <td>286</td>\n",
       "    </tr>\n",
       "  </tbody>\n",
       "</table>\n",
       "</div>"
      ],
      "text/plain": [
       "   target  age  educ  work_exp  interest  coffee  boss_educ  passport  green  \\\n",
       "0       0   50     4        27         8     1.3          1         0      2   \n",
       "1       0   30     3        10         0     0.0          6         1      2   \n",
       "2       0   43     3        22         7     1.9          6         1      1   \n",
       "3       0   58     3        31         7     2.0          4         0      3   \n",
       "4       1   40     3        23         7     0.0          6         1      3   \n",
       "\n",
       "   floor  children  climate  offhour  dist  salary  heigh  lunch  \n",
       "0      3         2        0        0  10.6       1    176    226  \n",
       "1      3         0        0        0  11.5       0    186    226  \n",
       "2      5         0        3        0  12.8       1    166    238  \n",
       "3      3         1        1        0  15.2       1    180    216  \n",
       "4      2         0        0        0  16.1       1    180    286  "
      ]
     },
     "execution_count": 1247,
     "metadata": {},
     "output_type": "execute_result"
    }
   ],
   "source": [
    "data = pd.read_excel('задание4.xls')\n",
    "\n",
    "data.head()"
   ]
  },
  {
   "cell_type": "markdown",
   "metadata": {},
   "source": [
    "__`target`__ – сотрудник уволится в следующем году (0-нет, 1-да)\n",
    "\n",
    "__`age`__ - возраст\n",
    "\n",
    "__`educ`__ - образование (1-начальное, 2-среднее, 3 -неоконченное высшее, 4-два и более высших образования, 5-кандидат наук, 6-доктор наук)\n",
    "\n",
    "__`work_exp`__ – стаж работы (лет)\n",
    "\n",
    "__`interest`__ – оценка сотрудником интереса к работе (от 0 до 10)\n",
    "\n",
    "__`coffee`__ - среднее количество чашек кофе, выпиваемых сотрудником за рабочий день\n",
    "\n",
    "__`boss_educ`__ - образование руководителя (1-начальное, 2-среднее, 3 -неоконченное высшее, 4-два и более высших образования, 5-кандидат наук, 6-доктор наук)\n",
    "\n",
    "__`passport`__ - наличие загранпаспорта у сотрудника (1-есть, 0 -нет)\n",
    "\n",
    "__`green`__ - степень озеленения офиса (от 1 до 5)\n",
    "\n",
    "__`floor`__ – этаж работы\n",
    "\n",
    "__`children`__ – количество детей у сотрудника\n",
    "\n",
    "__`climate`__ - удовлетворенность рабочей атмосферой (от 0 до 4)\n",
    "\n",
    "__`offhour`__ – наличие переработок (1-да, 0 -нет)\n",
    "\n",
    "__`dist`__ – расстояние до работы\n",
    "\n",
    "__`salary`__ – удовлетворенность заработной платой (1-да, 0 -нет)\n",
    "\n",
    "__`height`__ - рост сотрудника\n",
    "\n",
    "__`lunch`__ - средняя цена бизнес-ланча в офисе"
   ]
  },
  {
   "cell_type": "code",
   "execution_count": 1248,
   "metadata": {},
   "outputs": [],
   "source": [
    "X, y = data.drop('target', axis=1), data.target"
   ]
  },
  {
   "cell_type": "markdown",
   "metadata": {},
   "source": [
    "**Посмотрю на баланс классов:**"
   ]
  },
  {
   "cell_type": "code",
   "execution_count": 1249,
   "metadata": {},
   "outputs": [
    {
     "data": {
      "text/plain": [
       "0    0.679878\n",
       "1    0.320122\n",
       "Name: target, dtype: float64"
      ]
     },
     "execution_count": 1249,
     "metadata": {},
     "output_type": "execute_result"
    }
   ],
   "source": [
    "y.value_counts(normalize=True)"
   ]
  },
  {
   "cell_type": "markdown",
   "metadata": {},
   "source": [
    "Видно, что классы несбалансированны. Для оценки модели правильнее будет использование не accuracy, а других метрик. \n",
    "\n",
    "В практическом смысле важнее всего будет метрика полноты (recall), так как, обычно, не важно точно определять, уволится ли человек с работы. Целью является определить людей, которые потенциально могут уволиться, чтобы провести с ними работу. В таком случае более важно, чтобы как можно больше потенциальных увольнений было предсказанно, чем то, с какой точностью эти люди на самом деле уволятся."
   ]
  },
  {
   "cell_type": "markdown",
   "metadata": {},
   "source": [
    "**Посмотрю корреляции между признаками:**"
   ]
  },
  {
   "cell_type": "code",
   "execution_count": 1250,
   "metadata": {},
   "outputs": [
    {
     "data": {
      "text/plain": [
       "<Axes: >"
      ]
     },
     "execution_count": 1250,
     "metadata": {},
     "output_type": "execute_result"
    },
    {
     "data": {
      "image/png": "[encoded data removed]",
      "text/plain": [
       "<Figure size 640x480 with 2 Axes>"
      ]
     },
     "metadata": {},
     "output_type": "display_data"
    }
   ],
   "source": [
    "sns.heatmap(data.corr(), vmin=-1, vmax=1, cmap='coolwarm')"
   ]
  },
  {
   "cell_type": "markdown",
   "metadata": {},
   "source": [
    "Видна большая корреляция только у перемнных \"стаж работы\" и \"возраст\", остальные же корреляции не принимают больших значений"
   ]
  },
  {
   "cell_type": "markdown",
   "metadata": {},
   "source": [
    "**Использую инструмент RFECV для удаления признаков:**"
   ]
  },
  {
   "cell_type": "code",
   "execution_count": 1251,
   "metadata": {},
   "outputs": [
    {
     "name": "stdout",
     "output_type": "stream",
     "text": [
      "\n",
      "Оптимальное количество признаков: 13\n",
      "Удалённые из модели признаки: {'heigh', 'lunch', 'age'}\n",
      "\n"
     ]
    }
   ],
   "source": [
    "model = LogisticRegression()\n",
    "rfecv = RFECV(estimator=model, step=1, cv=StratifiedKFold(5), scoring='recall')\n",
    "\n",
    "rfecv.fit(X, y)\n",
    "\n",
    "print(f'''\n",
    "Оптимальное количество признаков: {rfecv.n_features_}\n",
    "Удалённые из модели признаки: {set(rfecv.feature_names_in_) - set(rfecv.get_feature_names_out())}\n",
    "''')"
   ]
  },
  {
   "cell_type": "markdown",
   "metadata": {},
   "source": [
    "RFECV (Recursive Feature Elimination with Cross-Validation) был использован для последовательного удаления признаков из модели. В процессе этого метода осуществляется оценка recall через кросс-валидацию, что позволяет определить, какие признаки следует исключить для оптимизации модели.\n",
    "\n",
    "- По резуьтатам моделирования были удалены признаки:\n",
    "> - Рост сотрудника. Исходя из логических суждений, рост сотрудников никак не влияет на текучесть кадров\n",
    "> - Средняя цена бизнес ланча в офисе. \n",
    "> - Возраст сотрудника. Удалена, скорее всего, потому что эта переменная коррелированна со стажем работы, и для правильного анализа и интерпретации достаточно одной из этих двух переменных."
   ]
  },
  {
   "cell_type": "markdown",
   "metadata": {},
   "source": [
    "**Удалю признаки, выбранные моделью в прошлом пункте и построю модель без них:**"
   ]
  },
  {
   "cell_type": "code",
   "execution_count": 1252,
   "metadata": {},
   "outputs": [
    {
     "name": "stdout",
     "output_type": "stream",
     "text": [
      "Optimization terminated successfully.\n",
      "         Current function value: 0.438384\n",
      "         Iterations 7\n",
      "           coef  p-value\n",
      "const     -1.30     0.01\n",
      "educ       0.01     0.91\n",
      "work_exp   0.01     0.20\n",
      "interest  -0.16     0.00\n",
      "coffee    -0.93     0.00\n",
      "boss_educ  0.11     0.10\n",
      "passport   0.59     0.00\n",
      "green      0.02     0.77\n",
      "floor     -0.04     0.05\n",
      "children  -0.11     0.10\n",
      "climate   -0.51     0.00\n",
      "offhour    1.17     0.00\n",
      "dist       0.14     0.00\n",
      "salary    -0.39     0.02\n"
     ]
    }
   ],
   "source": [
    "X = X[rfecv.get_feature_names_out()]\n",
    "\n",
    "model = sm.Logit(y, sm.add_constant(X)).fit()\n",
    "\n",
    "print(pd.concat([model.params.round(2), model.pvalues.round(2)], axis=1, keys=['coef', 'p-value']))"
   ]
  },
  {
   "cell_type": "markdown",
   "metadata": {},
   "source": [
    "Видны незначимые переменные, p-value для теста на равенство нулю коэффициента которых настолько велик, что эти переменные также можно исключить из модели:\n",
    "\n",
    "- Образование\n",
    "\n",
    "- Степень озеленения офиса"
   ]
  },
  {
   "cell_type": "markdown",
   "metadata": {},
   "source": [
    "**Построю модель с удалёнными незначимыми признаками:**"
   ]
  },
  {
   "cell_type": "code",
   "execution_count": 1253,
   "metadata": {},
   "outputs": [
    {
     "name": "stdout",
     "output_type": "stream",
     "text": [
      "Optimization terminated successfully.\n",
      "         Current function value: 0.438435\n",
      "         Iterations 7\n",
      "           coef  p-value\n",
      "const     -1.24     0.01\n",
      "work_exp   0.01     0.18\n",
      "interest  -0.16     0.00\n",
      "coffee    -0.93     0.00\n",
      "boss_educ  0.11     0.05\n",
      "passport   0.59     0.00\n",
      "floor     -0.04     0.05\n",
      "children  -0.11     0.10\n",
      "climate   -0.50     0.00\n",
      "offhour    1.17     0.00\n",
      "dist       0.14     0.00\n",
      "salary    -0.39     0.02\n"
     ]
    }
   ],
   "source": [
    "X = X.drop(['educ', 'green'], axis=1)\n",
    "\n",
    "model = sm.Logit(y, sm.add_constant(X)).fit()\n",
    "\n",
    "print(pd.concat([model.params.round(2), model.pvalues.round(2)], axis=1, keys=['coef', 'p-value']))"
   ]
  },
  {
   "cell_type": "markdown",
   "metadata": {},
   "source": [
    "Если брать уровень значимости, равный 5%, то незначимыми получаются переменные со стажем работы и количеством детей. Исходя из логических соображений, я бы хотел оставить эти переменные в итоговой модели.  \n",
    "\n",
    "Суждения:\n",
    "- При увеличении стажа работы на каждый год шанс увольнения слегка увеличивается. Это может указывать на то, что сотрудники с большим опытом могут искать новые возможности или сталкиваться с изменениями в карьерных амбициях.\n",
    "- При увеличении детей, у сотрудников увеличивается потребность в стабильности, что говорит о меньшей вероятности увольнения."
   ]
  },
  {
   "cell_type": "markdown",
   "metadata": {},
   "source": [
    "**Интерпретация коэффициентов выбранной модели:**"
   ]
  },
  {
   "cell_type": "markdown",
   "metadata": {},
   "source": [
    "- **interest**: Увеличение интереса к работе на один балл значительно снижает шанс увольнения. Это говорит о том, что мотивированные и заинтересованные сотрудники менее склонны к уходу.\n",
    "\n",
    "- **coffee**: Если сотрудник выпивает на одну чашку кофе больше в день, его шанс увольнения сокращается почти вдвое. Это может быть связано с культурой работы и перерывами на кофе, способствующими социальному взаимодействию и удовлетворённости работой.\n",
    "\n",
    "- **boss_educ**: Чем выше уровень образования у руководителя, тем немного больше шанс увольнения сотрудника. Возможно, это связано с ожиданиями сотрудников или стилем управления высокообразованных руководителей. Также это может быть связанно с тем, что если руководитель образован, то вероятность того, что сотрудник может занять его место - ниже.\n",
    "\n",
    "- **passport**: Сотрудники, имеющие загранпаспорт, имеют больший шанс увольнения, что может отражать их более высокую мобильность и доступ к международным возможностям.\n",
    "\n",
    "- **floor**: Шанс увольнения уменьшается с каждым этажом, на котором работает сотрудник. Это может быть связано с физическим местоположением в компании или с тем, что более высокие этажи могут быть признаком высшего статуса внутри компании.\n",
    "\n",
    "- **climate**: Удовлетворенность рабочей атмосферой сильно влияет на снижение шанса увольнения. Положительный климат в офисе важен для удержания сотрудников.\n",
    "\n",
    "- **offhour**: Сотрудники, которые часто работают сверхурочно, гораздо более склонны к увольнению, что может указывать на проблемы с балансом работы и личной жизни.\n",
    "\n",
    "- **dist**: Большее расстояние до работы увеличивает вероятность увольнения, вероятно, из-за увеличенной нагрузки от долгих поездок и стресса.\n",
    "\n",
    "- **salary**: Недовольство заработной платой значительно увеличивает шанс увольнения, подчеркивая важность финансового удовлетворения для удержания сотрудников.\n"
   ]
  },
  {
   "cell_type": "markdown",
   "metadata": {},
   "source": [
    "**Построю матрицу ошибок для этой модели:**"
   ]
  },
  {
   "cell_type": "code",
   "execution_count": 1254,
   "metadata": {},
   "outputs": [
    {
     "name": "stdout",
     "output_type": "stream",
     "text": [
      "[[577  92]\n",
      " [135 180]]\n"
     ]
    }
   ],
   "source": [
    "model = LogisticRegression()\n",
    "\n",
    "model.fit(X, y)\n",
    "\n",
    "y_pred = model.predict(X)\n",
    "y_pred_proba = model.predict_proba(X)[:, 1]\n",
    "\n",
    "print(confusion_matrix(y, y_pred))"
   ]
  },
  {
   "cell_type": "markdown",
   "metadata": {},
   "source": [
    "**Найду различные метрики качества через кросс-валидацию:**"
   ]
  },
  {
   "cell_type": "code",
   "execution_count": 1255,
   "metadata": {},
   "outputs": [
    {
     "data": {
      "text/html": [
       "<div>\n",
       "<style scoped>\n",
       "    .dataframe tbody tr th:only-of-type {\n",
       "        vertical-align: middle;\n",
       "    }\n",
       "\n",
       "    .dataframe tbody tr th {\n",
       "        vertical-align: top;\n",
       "    }\n",
       "\n",
       "    .dataframe thead th {\n",
       "        text-align: right;\n",
       "    }\n",
       "</style>\n",
       "<table border=\"1\" class=\"dataframe\">\n",
       "  <thead>\n",
       "    <tr style=\"text-align: right;\">\n",
       "      <th></th>\n",
       "      <th>cross_val_score</th>\n",
       "    </tr>\n",
       "  </thead>\n",
       "  <tbody>\n",
       "    <tr>\n",
       "      <th>accuracy</th>\n",
       "      <td>0.763203</td>\n",
       "    </tr>\n",
       "    <tr>\n",
       "      <th>f1</th>\n",
       "      <td>0.603268</td>\n",
       "    </tr>\n",
       "    <tr>\n",
       "      <th>precision</th>\n",
       "      <td>0.652225</td>\n",
       "    </tr>\n",
       "    <tr>\n",
       "      <th>recall</th>\n",
       "      <td>0.561905</td>\n",
       "    </tr>\n",
       "    <tr>\n",
       "      <th>roc_auc</th>\n",
       "      <td>0.837182</td>\n",
       "    </tr>\n",
       "  </tbody>\n",
       "</table>\n",
       "</div>"
      ],
      "text/plain": [
       "           cross_val_score\n",
       "accuracy          0.763203\n",
       "f1                0.603268\n",
       "precision         0.652225\n",
       "recall            0.561905\n",
       "roc_auc           0.837182"
      ]
     },
     "execution_count": 1255,
     "metadata": {},
     "output_type": "execute_result"
    }
   ],
   "source": [
    "metrix = ['accuracy', 'f1', 'precision', 'recall', 'roc_auc']\n",
    "\n",
    "results = []\n",
    "for i in metrix:\n",
    "    result = cross_val_score(model, X, y, cv=StratifiedKFold(5), scoring=i).mean()\n",
    "    results.append(result)\n",
    "\n",
    "pd.DataFrame(results, index=metrix, columns=['cross_val_score'])"
   ]
  },
  {
   "cell_type": "markdown",
   "metadata": {},
   "source": [
    "Видно, что резултаты логистической регрессии, оценённые через кросс-валидацию, не оставляют желать лучшего. Так как только 56% уволившихся модель предсказывает. При этом доля вернях ответов составляет 76%"
   ]
  },
  {
   "cell_type": "markdown",
   "metadata": {},
   "source": [
    "**Построение ROC-кривой:**"
   ]
  },
  {
   "cell_type": "code",
   "execution_count": 1256,
   "metadata": {},
   "outputs": [
    {
     "data": {
      "image/png": "[encoded data removed]",
      "text/plain": [
       "<Figure size 1000x600 with 1 Axes>"
      ]
     },
     "metadata": {},
     "output_type": "display_data"
    }
   ],
   "source": [
    "fpr, tpr, threshold = roc_curve(y, y_pred_proba)\n",
    "auc = roc_auc_score(y, y_pred_proba)\n",
    "plt.figure(figsize=(10, 6))\n",
    "plt.plot(fpr, tpr, color='darkorange', lw=2, label=f\"ROC curve (area = {auc:.2f})\")\n",
    "plt.plot([0, 1], [0, 1], color='navy', lw=2, linestyle='--')\n",
    "plt.xlim([0.0, 1.0])\n",
    "plt.ylim([0.0, 1.05])\n",
    "plt.xlabel('False Positive Rate')\n",
    "plt.ylabel('True Positive Rate')\n",
    "plt.title('ROC Curve')\n",
    "plt.legend(loc=\"lower right\")\n",
    "plt.grid(True)\n",
    "plt.show()"
   ]
  },
  {
   "cell_type": "markdown",
   "metadata": {},
   "source": [
    "В целом, ROC-кривая показывает, что модель имеет право на существование и показывает результаты значительно лучше, чем случайное угадывание"
   ]
  }
 ],
 "metadata": {
  "kernelspec": {
   "display_name": "base",
   "language": "python",
   "name": "python3"
  },
  "language_info": {
   "codemirror_mode": {
    "name": "ipython",
    "version": 3
   },
   "file_extension": ".py",
   "mimetype": "text/x-python",
   "name": "python",
   "nbconvert_exporter": "python",
   "pygments_lexer": "ipython3",
   "version": "3.10.9"
  }
 },
 "nbformat": 4,
 "nbformat_minor": 2
}
